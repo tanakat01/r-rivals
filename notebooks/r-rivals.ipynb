{
 "cells": [
  {
   "cell_type": "markdown",
   "metadata": {
    "id": "miCWfz7C288C"
   },
   "source": [
    "# アールライバルズのナッシュ戦略\n",
    "\n"
   ]
  },
  {
   "cell_type": "markdown",
   "metadata": {
    "id": "-l4DM4ud4JAa"
   },
   "source": [
    "## ルール\n",
    "- https://www.youtube.com/watch?v=X4QCf6217Cs\n",
    "に説明動画\n",
    "- https://shop.game-life.jp/blog/2015/04/09/105907\n",
    "にある説明を引用する．\n",
    "\n",
    "```\n",
    "道化(0)　：数値は最低だけど、カードの効果で勝負を次にもちこせます。\n",
    "　　　　　 実質カードの効果を無視する魔術師以外には負けません。\n",
    "　　　　　 勝てもしませんけど。\n",
    "姫(1)　　：このゲームの最大のキモとなるカード。\n",
    "　　　　　 このカードで相手の王子に勝てた場合、\n",
    "　　　　　 その時点でゲームに勝ちます。\n",
    "　　　　　 どんなに負け越していても勝ちになります。\n",
    "密偵(2)　：おそらく一番使い方が難しいカード。\n",
    "　　　　　 出した次の勝負は相手のカードを見てから\n",
    "　　　　　 何を出すか決められます。\n",
    "暗殺者(3)：このカードより弱いカードに負けて\n",
    "　　　　　 強いカードに勝つ特殊なカード。\n",
    "　　　　　 暗殺者で相手の将軍等の強いカードに勝てたら気持ちいいですよ！\n",
    "大臣(4)　：数値的には弱くないのですが…暗殺者に負けるため、\n",
    "　　　　　 実質勝てる相手が少ないです。\n",
    "　　　　　 ただ、勝てた場合はその勝利は２勝分！　\n",
    "　　　　　 価値ある勝利になります。\n",
    "魔術師(5)：担当的には一番使いやすいカード。\n",
    "　　　　　 相手の効果を無視して単純な数値のくらべ合いにもちこめます。\n",
    "　　　　　 道化に勝てる唯一のカードです。\n",
    "将軍(6)　：数値的に王子に次ぐ強いカード。\n",
    "　　　　　 さらに次の勝負の時に出すカードの数値を＋２できる\n",
    "　　　　　 強力な効果もあります。\n",
    "王子(7)　：数値的に最強のカード。\n",
    "　　　　　 暗殺者もよせつけないため、確実に勝ちたいときに使いましょう。\n",
    "　　　　　 ただし、相手の姫には気をつけて！\n",
    "```\n",
    "\n",
    "ルールの注意点\n",
    "- 道化の「勝負を持ち越す」は次に勝った人が2勝分の点を得るのか?\n",
    " - https://shop.game-life.jp/blog/2015/04/09/105907 の進行例を見るとそのとおり．\n",
    "- 引き分けは?\n",
    " - 道化の直後の場合は次の勝者が1勝取るようだが，それに倣う\n",
    " - 魔術師 - 将軍 は?\n",
    "  - 次のカード +2 を無効にするのか? -> そのとおり\n",
    "  - 「同じターンの相手のカードの効果を無効化」\n",
    " - 片方が将軍を出した直後に魔術師 - 魔術師の場合は?\n",
    "  - 将軍の効果は生きる．\n",
    " - 将軍のあとのターンで暗殺者 - 密偵(+2) は暗殺者の勝ちで良いか?\n",
    "  - それはそう．\n",
    "  \n",
    " \n",
    "\n",
    "\n",
    "\n"
   ]
  },
  {
   "cell_type": "markdown",
   "metadata": {
    "id": "lhBTXAIBSqSf"
   },
   "source": [
    "## 手番での状態\n",
    "- 自分がplayer1, 相手がplayer2とする．\n",
    "- それぞれのプレイヤの残りカード\n",
    " - mask1 (0 - 255), mask2 (0 - 255)\n",
    " - mask & (1 << i) ! = 0 の時に，カード i を保持\n",
    "- それぞれのプレイヤの得点状況 0-3, 0-3\n",
    " - score1, score2\n",
    "- next win score\n",
    " - win_score1, win_score2\n",
    " - drawが続くとwin_score1, win_score2 がともに +1\n",
    " - 大臣を出してdrawだった時は+2とする(大臣がdrawのときの効果はdrawが続く限り続くものとする)．\n",
    "- 直前にどちらかだけが密偵を出したか?\n",
    " - dspy : 1の時は自分だけが密偵，-1の時は相手が密偵\n",
    "- 直前に自分が密偵だった時の，相手が先に出したカード\n",
    " - prevcard :　通常は -1 , dspy が1の時は，相手が先に出したカード\n",
    "- 直前に将軍\n",
    " - dgeneral 2 の時は自分がgeneral, -2 の時は相手がgeneral\n",
    "\n",
    "これを元に \n",
    "```\n",
    "((mask1, mask2), (score1, score2), (wscore1, wscore2), dspy, dgeneral, prevcard)\n",
    "```\n",
    "を状態とする．\n",
    "\n"
   ]
  },
  {
   "cell_type": "markdown",
   "metadata": {
    "id": "R9Uh6q0endRV"
   },
   "source": [
    "## 両者が暗殺者 (assassin)の時\n",
    "関数 next_state_sub に引数 double_assassin を追加．\n",
    "- double_assassin = False (default)のときは，両者がassassinを出しても，scoreが小さい方が勝つ．\n",
    "- double_assassin = True とすると，両者がassasinのときは，scoreが大きい方が勝つ．\n"
   ]
  },
  {
   "cell_type": "code",
   "execution_count": 1,
   "metadata": {
    "executionInfo": {
     "elapsed": 286,
     "status": "ok",
     "timestamp": 1634088996215,
     "user": {
      "displayName": "Tetsuro Tanaka",
      "photoUrl": "https://lh3.googleusercontent.com/a/default-user=s64",
      "userId": "10975618971026381564"
     },
     "user_tz": -540
    },
    "id": "PDBCDc4gaLeL"
   },
   "outputs": [],
   "source": [
    "init_state = ((255, 255), (0, 0), (1, 1), 0, 0, -1)\n",
    "# stateが終了状態かどうか?\n",
    "def is_final(state):\n",
    "    ((mask1, mask2), (score1, score2), (wscore1, wscore2), dspy, dgeneral, prevcard) = state\n",
    "    return score1 >= 4 or score2 >= 4 or (mask1 == 0 and mask2 == 0)\n",
    "# 終了状態のゲームスコアをplayer1の立場から返す\n",
    "def final_score(state):\n",
    "    ((mask1, mask2), (score1, score2), (wscore1, wscore2), dspy, dgeneral, prevcard) = state\n",
    "    if score1 >= 4:\n",
    "        return 1\n",
    "    elif score2 >= 4:\n",
    "        return -1\n",
    "    else:\n",
    "        return 0\n",
    "# プレイヤ1からみた状態からプレイヤ2からみた状態を作り出す．\n",
    "def neg_state(state):\n",
    "    ((mask1, mask2), (score1, score2), (wscore1, wscore2), dspy, dgeneral, prevcard) = state\n",
    "    return ((mask2, mask1), (score2, score1), (wscore2, wscore1), -dspy, -dgeneral, prevcard)\n",
    "# maskからmoveのリストに変換\n",
    "def mask2moves(mask):\n",
    "    return [i for i in range(8) if (1 << i) & mask != 0]\n",
    "# moveのリストからmaskに変換\n",
    "def moves2mask(moves):\n",
    "    ans = 0\n",
    "    for x in moves:\n",
    "        ans |= (1 << x)\n",
    "    return ans\n",
    "# stateがプレイヤ1の手番かどうか?\n",
    "def canmove(state):\n",
    "    ((mask1, mask2), (score1, score2), (wscore1, wscore2), dspy, dgeneral, prevcard) = state\n",
    "    if dspy == 0:\n",
    "        return True\n",
    "    if dspy > 0 and prevcard >= 0:\n",
    "        return True\n",
    "    if dspy < 0 and prevcard < 0:\n",
    "        return True\n",
    "    return False\n",
    "def state2moves(state):\n",
    "    ((mask1, mask2), (score1, score2), (wscore1, wscore2), dspy, dgeneral, prevcard) = state\n",
    "    return ((mask2moves(mask1), mask2moves(mask2)), (score1, score2), (wscore1, wscore2), dspy, dgeneral, prevcard)\n",
    "def state2masks(state):\n",
    "    ((moves1, moves2), (score1, score2), (wscore1, wscore2), dspy, dgeneral, prevcard) = state\n",
    "    return ((moves2mask(moves1), moves2mask(moves2)), (score1, score2), (wscore1, wscore2), dspy, dgeneral, prevcard)\n",
    "\n",
    "def next_state_sub(state, move1, move2, double_assassin=False):\n",
    "    ((mask1, mask2), (score1, score2), (wscore1, wscore2), dspy, dgeneral, prevcard) = state\n",
    "    assert (mask1 & (1 << move1)) != 0\n",
    "    if (mask2 & (1 << move2) == 0):\n",
    "        print('state', state, 'move1', move1, 'move2', move2, 'mask2', mask2)\n",
    "    assert (mask2 & (1 << move2)) != 0\n",
    "    # prince and princess\n",
    "    mask1 ^= 1 << move1\n",
    "    mask2 ^= 1 << move2\n",
    "    if move1 == 1 and move2 == 7:\n",
    "        return ((mask1, mask2), (4, 0), (0, 0), 0, 0, -1)\n",
    "    elif move1 == 7 and move2 == 1:\n",
    "        return ((mask1, mask2), (0, 4), (0, 0), 0, 0, -1)\n",
    "    str1 = move1 + dgeneral\n",
    "    str2 = move2\n",
    "    # wizard\n",
    "    if move1 == 5 or move2 == 5:\n",
    "        if str1 == str2:\n",
    "            return ((mask1, mask2), (score1, score2), (wscore1 + 1, wscore2 + 1), 0, 0, -1)\n",
    "        elif str1 > str2:\n",
    "            return ((mask1, mask2), (score1 + wscore1, score2), (1, 1), 0, 0, -1)\n",
    "        else:\n",
    "            return ((mask1, mask2), (score1, score2 + wscore2), (1, 1), 0, 0, -1)\n",
    "    dgeneral = (2 if move1 == 6 else 0) + (-2 if move2 == 6 else 0)\n",
    "    dspy = (1 if move1 == 2 else 0) + (-1 if move2 == 2 else 0)\n",
    "    wadd1 = (2 if move1 == 4 else 1)\n",
    "    wadd2 = (2 if move2 == 4 else 1)\n",
    "    wscore1 = wscore1 + wadd1\n",
    "    wscore2 = wscore2 + wadd2\n",
    "    # when each player moves assassin at the same time, the order is reversed.\n",
    "    if move1 == 3 and move2 == 3 and double_assassin:\n",
    "        pass\n",
    "    elif (move1 == 3 and move2 != 7) or (move2 == 3 and move1 != 7): \n",
    "        str1 = -str1\n",
    "        str2 = -str2\n",
    "    if move1 == 0 or move2 == 0 or str1 == str2:\n",
    "        return ((mask1, mask2), (score1, score2), (wscore1, wscore2), dspy, dgeneral, -1)\n",
    "    if str1 > str2:\n",
    "        return ((mask1, mask2), (score1 + wscore1 - 1, score2), (1, 1), dspy, dgeneral, -1)\n",
    "    else:\n",
    "        return ((mask1, mask2), (score1, score2 + wscore2 - 1), (1, 1), dspy, dgeneral, -1)\n",
    "# normalize\n",
    "def next_state(state, move1, move2, double_assassin=False):\n",
    "    ((mask1, mask2), (score1, score2), (wscore1, wscore2), dspy, dgeneral, prevcard) = next_state_sub(state, move1, move2, double_assassin)\n",
    "    wscore1 = min(4 - score1, wscore1)\n",
    "    wscore2 = min(4 - score2, wscore2)\n",
    "    return ((mask1, mask2), (score1, score2), (wscore1, wscore2), dspy, dgeneral, prevcard)\n",
    "# spyの後\n",
    "def half_move(state, move, double_assassin=False):\n",
    "    ((mask1, mask2), (score1, score2), (wscore1, wscore2), dspy, dgeneral, prevcard) = state\n",
    "    assert dspy != 0\n",
    "    if prevcard < 0:\n",
    "        return ((mask1, mask2), (score1, score2), (wscore1, wscore2), dspy, dgeneral, move)\n",
    "    if dspy < 0:\n",
    "        return next_state(state, prevcard, move, double_assassin)\n",
    "    return next_state(state, move, prevcard, double_assassin)\n",
    "def pp_state(state):\n",
    "    ((mask1, mask2), (score1, score2), (wscore1, wscore2), dspy, dgeneral, prevcard) = state\n",
    "    return ((mask2moves(mask1), mask2moves(mask2)), (score1, score2), (wscore1, wscore2), dspy, dgeneral, prevcard)"
   ]
  },
  {
   "cell_type": "markdown",
   "metadata": {
    "id": "u3EoA-sLlUIU"
   },
   "source": [
    "## 早見表との比較\n",
    "特に何もない状態でやってみて，早見表と同じ表が出ることを確認する．\n",
    "\n",
    "|P1\\P2|7|6|5|4|3|2|1|0|\n",
    "| --- | --- | --- | --- | --- | --- | --- | --- | --- |\n",
    "|7|△|○|○|○|○|○|■|△|\n",
    "|6|×|△|○|○|×|○|○|△|\n",
    "|5|×|×|△|○|○|○|○|○|\n",
    "|4|×|×|×|△|×|○|○|△|\n",
    "|3|×|○|×|○|△|×|×|△|\n",
    "|2|×|×|×|×|○|△|○|△|\n",
    "|1|◎|×|×|×|○|×|△|△|\n",
    "|0|△|△|×|△|△|△|△|△|\n",
    "\n",
    "(表の説明)\n",
    "- ◎ : P1が「ゲーム」の勝ち\n",
    "- ○ : P1が「勝負」に勝ち\n",
    "- △ : 「勝負」は引き分け\n",
    "- × : P2が「勝負」の勝ち\n",
    "- ■ : P2が「ゲーム」の勝ち\n",
    "\n"
   ]
  },
  {
   "cell_type": "code",
   "execution_count": 2,
   "metadata": {
    "colab": {
     "base_uri": "https://localhost:8080/"
    },
    "executionInfo": {
     "elapsed": 330,
     "status": "ok",
     "timestamp": 1634089006446,
     "user": {
      "displayName": "Tetsuro Tanaka",
      "photoUrl": "https://lh3.googleusercontent.com/a/default-user=s64",
      "userId": "10975618971026381564"
     },
     "user_tz": -540
    },
    "id": "i34FYNj5hYYy",
    "outputId": "7cd560e1-9524-41bc-a352-4014dc5996bc"
   },
   "outputs": [
    {
     "name": "stdout",
     "output_type": "stream",
     "text": [
      "△○○○○○■△\n",
      "×△○○×○○△\n",
      "××△○○○○○\n",
      "×××△×○○△\n",
      "×○×○△××△\n",
      "××××○△○△\n",
      "◎×××○×△△\n",
      "△△×△△△△△\n"
     ]
    }
   ],
   "source": [
    "for i in range(7, -1, -1):\n",
    "    l = ''\n",
    "    for j in range(7, -1, -1):\n",
    "        state = ((255, 255), (0, 0), (1, 1), 0, 0, -1)\n",
    "        ((mask1, mask2), (score1, score2), (wscore1, wscore2), dspy, dgeneral, prevcard) = next_state(state, i, j)\n",
    "        if score1 >= 4:\n",
    "            l += '◎'\n",
    "        elif score1 > 0:\n",
    "            l += '○'\n",
    "        elif score2 >= 4:\n",
    "            l += '■'\n",
    "        elif score2 > 0:\n",
    "            l += '×'\n",
    "        else:\n",
    "            l += '△'\n",
    "    print(l)"
   ]
  },
  {
   "cell_type": "markdown",
   "metadata": {
    "id": "FRRUP94Wll2e"
   },
   "source": [
    "## 状態数を調べる．\n",
    "spyが絡まずに，各ラウンドが終わって決着がついていない時の状態の数を数える．\n"
   ]
  },
  {
   "cell_type": "code",
   "execution_count": 3,
   "metadata": {
    "executionInfo": {
     "elapsed": 40376,
     "status": "ok",
     "timestamp": 1634089054509,
     "user": {
      "displayName": "Tetsuro Tanaka",
      "photoUrl": "https://lh3.googleusercontent.com/a/default-user=s64",
      "userId": "10975618971026381564"
     },
     "user_tz": -540
    },
    "id": "CKmQgNtwkwKt"
   },
   "outputs": [],
   "source": [
    "# set all_states\n",
    "def gen_all_states(double_assassin=False):\n",
    "    all_states = [set()]\n",
    "    all_states[-1].add(init_state)\n",
    "    for i in range(8):\n",
    "        nstates = set()\n",
    "        magic_states = set()\n",
    "        for s in all_states[-1]:\n",
    "            ((mask1, mask2), (score1, score2), (wscore1, wscore2), dspy, dgeneral, prevcard) = s\n",
    "            moves1, moves2 = mask2moves(mask1), mask2moves(mask2)\n",
    "            if dspy == -1:\n",
    "                for move1 in moves1:\n",
    "                    ns = half_move(s, move1, double_assassin)\n",
    "                    magic_states.add(neg_state(ns))\n",
    "                    for move2 in moves2:\n",
    "                        ns1 = half_move(ns, move2, double_assassin)\n",
    "                        if is_final(ns1):\n",
    "                            continue\n",
    "                        if ns1[3] != 1:\n",
    "                            nstates.add(ns1)\n",
    "                        nstates.add(neg_state(ns1))\n",
    "                continue\n",
    "            assert dspy == 0\n",
    "            for move1 in moves1:\n",
    "                for move2 in moves2:\n",
    "                    ns = next_state(s, move1, move2, double_assassin)\n",
    "                    if is_final(ns):\n",
    "                        continue\n",
    "                    if ns[3] != 1:\n",
    "                        nstates.add(ns)\n",
    "                    if ns[3] != -1:\n",
    "                        nstates.add(neg_state(ns))\n",
    "        all_states[-1] |= magic_states\n",
    "        all_states.append(nstates)\n",
    "    return all_states\n",
    "all_states = gen_all_states()\n",
    "all_states_da = gen_all_states(double_assassin=True)"
   ]
  },
  {
   "cell_type": "code",
   "execution_count": 4,
   "metadata": {
    "colab": {
     "base_uri": "https://localhost:8080/"
    },
    "executionInfo": {
     "elapsed": 1011,
     "status": "ok",
     "timestamp": 1634089071753,
     "user": {
      "displayName": "Tetsuro Tanaka",
      "photoUrl": "https://lh3.googleusercontent.com/a/default-user=s64",
      "userId": "10975618971026381564"
     },
     "user_tz": -540
    },
    "id": "tEmEXKAmm9Iu",
    "outputId": "c42c31a9-3bf9-497d-d825-9172b83efe22"
   },
   "outputs": [
    {
     "name": "stdout",
     "output_type": "stream",
     "text": [
      "double_assassin False\n",
      "8 & 1 & 0 & 0 \\\\\n",
      "7 & 50 & 6 & 42 \\\\\n",
      "6 & 1902 & 273 & 1638 \\\\\n",
      "5 & 27872 & 4574 & 22870 \\\\\n",
      "4 & 110786 & 22425 & 89700 \\\\\n",
      "3 & 102091 & 25777 & 77331 \\\\\n",
      "2 & 25374 & 6779 & 13558 \\\\\n",
      "1 & 2600 & 727 & 727 \\\\\n",
      "537103\n",
      "double_assassin True\n",
      "8 & 1 & 0 & 0 \\\\\n",
      "7 & 50 & 6 & 42 \\\\\n",
      "6 & 1904 & 273 & 1638 \\\\\n",
      "5 & 27882 & 4576 & 22880 \\\\\n",
      "4 & 110804 & 22438 & 89752 \\\\\n",
      "3 & 102081 & 25776 & 77328 \\\\\n",
      "2 & 25372 & 6779 & 13558 \\\\\n",
      "1 & 2600 & 727 & 727 \\\\\n",
      "537194\n"
     ]
    }
   ],
   "source": [
    "def print_all_states(double_assassin=False):\n",
    "    print('double_assassin', double_assassin)\n",
    "    for i in range(8):\n",
    "        ss = all_states_da[i] if double_assassin else all_states[i]\n",
    "        simul, turn1, turn2 = 0, 0, 0\n",
    "        for s in ss:\n",
    "            ((mask1, mask2), (score1, score2), (wscore1, wscore2), dspy, dgeneral, prevcard) = s\n",
    "            if dspy != 0:\n",
    "                #assert dspy == -1\n",
    "                if prevcard == -1:\n",
    "                    turn1 += 1\n",
    "                else:\n",
    "                    turn2 += 1\n",
    "            else:\n",
    "                simul += 1\n",
    "        print(8 - i, '&', simul, '&', turn1, '&', turn2, '\\\\\\\\')\n",
    "    print(sum(len(s) for s in (all_states_da if double_assassin else all_states)))\n",
    "print_all_states(False)\n",
    "print_all_states(True)"
   ]
  },
  {
   "cell_type": "markdown",
   "metadata": {
    "id": "rEyRPjoEsAKS"
   },
   "source": [
    "## scipy.optimize.linprogの使い方\n",
    "準備としてscipy.optimize.linprog\n",
    "https://docs.scipy.org/doc/scipy/reference/generated/scipy.optimize.linprog.html\n",
    "を使って線形計画法の問題を解く例をみていく．\n",
    "```\n",
    "scipy.optimize.linprog(c, A_ub=None, b_ub=None, A_eq=None, b_eq=None, bounds=None, method='interior-point', callback=None, options=None, x0=None)\n",
    "```\n",
    "$$\\min_{x}c^Tx$$\n",
    "s.t. \n",
    "$$A_{ub} x \\le b_{ub},$$\n",
    "$$A_{eq} x = b_{eq},$$\n",
    "$$l\\le x\\le u$$\n",
    "\n"
   ]
  },
  {
   "cell_type": "code",
   "execution_count": null,
   "metadata": {
    "id": "N-rEo1Y7tHLv"
   },
   "outputs": [],
   "source": [
    "# sample\n",
    "from scipy.optimize import linprog\n",
    "c = [-1, 4]\n",
    "A = [[-3, 1], [1, 2]]\n",
    "b = [6, 4]\n",
    "bounds =[\n",
    "    (None, None),  # -∞ ≤ x ≤ ∞\n",
    "    (-3, None)     # -s ≤ y ≤ ∞\n",
    "]\n",
    "\n",
    "res = linprog(c, A_ub=A, b_ub=b, bounds=bounds, method='simplex')\n",
    "print(res)"
   ]
  },
  {
   "cell_type": "markdown",
   "metadata": {
    "id": "QXHHpTcOpJiT"
   },
   "source": [
    "## Nash均衡のゲーム値の計算\n",
    "### 同時出し\n",
    "同時に出す場合のことを考える．\n",
    "$$move1 = \\{A_0, A_1, A_2, \\ldots, A_{n - 1}\\}$$\n",
    "$$move2 = \\{B_0, B_1, B_2, \\ldots, B_{n - 1}\\}$$\n",
    "で，それぞれが$A_i, B_j$ を選択した時の，player 1 の立場からの利得の期待値を$R_{i,j}$とする．$Player_{1}$が確率$\\pi = \\{p_0, p_1, \\ldots, p_{n - 1}\\}$でそれぞれの手を選択するものとする．\n",
    "確率の定義により，\n",
    "$$ \\sum_{i=0}^{n - 1} p_i = 1 $$\n",
    "敵が$B_j$を選択した時の自分の利得は$R(j, \\pi) = \\sum_{i=0}^{n-1} p_i R_{i, j}$となる．相手が最善の手を選択した時の自分の利得を$v$とすると，$0 \\le j \\le n - 1$の$j$について，\n",
    "$$v \\le \\sum_{i=0}^{n-1} p_i R_{i, j} $$\n",
    "が成り立つ．この制約のもとで，vを最大化するという線形計画法を解く必要がある．\n",
    "$$ x = (v, p_0, p_1, \\ldots, p_{n - 1})^T$$\n",
    "$$ c = (-1, 0, 0, \\ldots, 0)^T$$\n",
    "として，$c_T x$ を最小化する．\n",
    "$$ \\sum_{i=0}^{n - 1} p_i = 1 $$\n",
    "の条件は，\n",
    "$$ A_{eq} = (0, 1, 1, \\ldots, 1) $$\n",
    "$$ b_{eq} = 1 $$\n",
    "として，\n",
    "$$ A_{eq} x = b_{eq}$$\n",
    "と書ける．また，\n",
    "$$v \\le \\sum_{i=0}^{n-1} p_i R_{i, j} $$\n",
    "の条件は，\n",
    "$$\n",
    "A_{ub} = \\left(\n",
    "\\begin{array}{rrrrrr}\n",
    "1 & -R_{0, 0} & -R_{1, 0} & \\cdots & -R_{i, 0} & \\cdots & -R_{n - 1, 0} \\\\\n",
    "1 & -R_{0, 1} & -R_{1, 1} & \\cdots & -R_{i, 1} & \\cdots & -R_{n - 1, 1} \\\\\n",
    "\\vdots & \\vdots & \\vdots & \\ddots & \\vdots & \\ddots & \\vdots \\\\\n",
    "1 & -R_{0, n - 1} & -R_{1, n - 1} & \\cdots & -R_{i, n - 1} & \\cdots & -R_{n - 1, n - 1} \\\\\n",
    "\\end{array}\n",
    "\\right)\n",
    "$$\n",
    "$$ b_{ub} = (0, 0, \\ldots, 0)^T $$ \n",
    "として，\n",
    "$$ A_{ub} x \\le b_{ub}$$\n",
    "とかける．\n",
    "\n",
    "\n",
    "\n"
   ]
  },
  {
   "cell_type": "code",
   "execution_count": 51,
   "metadata": {
    "executionInfo": {
     "elapsed": 660,
     "status": "ok",
     "timestamp": 1634089086924,
     "user": {
      "displayName": "Tetsuro Tanaka",
      "photoUrl": "https://lh3.googleusercontent.com/a/default-user=s64",
      "userId": "10975618971026381564"
     },
     "user_tz": -540
    },
    "id": "_2hEuYtXpHW1"
   },
   "outputs": [],
   "source": [
    "import scipy.optimize\n",
    "import traceback\n",
    "import sys\n",
    "#from scipy.optimize import linprog\n",
    "s2unique = {} # state でのplayer1にとっての最適解が uniqueかどうかを True, False で判定する．\n",
    "def simultaneous(state, s2val, s2moves, double_assassin=False, mylinprog=scipy.optimize.linprog, debug=False):\n",
    "    ((mask1, mask2), (score1, score2), (wscore1, wscore2), dspy, dgeneral, prevcard) = state\n",
    "    moves1, moves2 = mask2moves(mask1), mask2moves(mask2)\n",
    "    n = len(moves1)\n",
    "    c = [-1] + [0] * n\n",
    "    bounds = [(None, None)] + [(0, None)] * n\n",
    "    A_eq = [[0] + [1] * n]\n",
    "    b_eq = [1]\n",
    "    A_ub = []\n",
    "    b_ub = []\n",
    "    for j, move2 in enumerate(moves2):\n",
    "        l = [1]\n",
    "        for i, move1 in enumerate(moves1):\n",
    "            l.append(-statevalue(next_state(state, move1, move2), s2val, s2moves, double_assassin, mylinprog))\n",
    "        A_ub.append(l)\n",
    "        b_ub.append(0)\n",
    "    if debug:\n",
    "        print('(A_ub, b_ub, A_eq, b_eq, bounds)', (A_ub, b_ub, A_eq, b_eq, bounds))\n",
    "    res = mylinprog(c, A_ub=A_ub, b_ub=b_ub, A_eq=A_eq, b_eq=b_eq, bounds=bounds, method='simplex')\n",
    "    if debug:\n",
    "        print('res.x', res.x)\n",
    "    moves = []\n",
    "    for i, move1 in enumerate(moves1):\n",
    "        moves.append((move1, res.x[i + 1]))\n",
    "    s2moves[state] = moves\n",
    "    return res.x[0]\n",
    "\n",
    "def statevalue(state, s2val, s2moves, double_assassin=False, mylinprog=scipy.optimize.linprog):\n",
    "    #print('statevalue: state', state)\n",
    "    if is_final(state):\n",
    "        return final_score(state)\n",
    "    if state in s2val and state in s2moves:\n",
    "        return s2val[state]\n",
    "    ((mask1, mask2), (score1, score2), (wscore1, wscore2), dspy, dgeneral, prevcard) = state\n",
    "    if dspy == 0:\n",
    "        v = simultaneous(state, s2val, s2moves, double_assassin, mylinprog)\n",
    "        ns = neg_state(state)\n",
    "        if ns not in s2val:\n",
    "            v1 = simultaneous(ns, s2val, s2moves, double_assassin, mylinprog)\n",
    "            s2val[ns] = v1\n",
    "    elif dspy == -1: \n",
    "        if prevcard >= 0:\n",
    "            return -statevalue(neg_state(state), s2val, s2moves, double_assassin, mylinprog)\n",
    "        moves1 = mask2moves(mask1)\n",
    "        v, maxmove1 = -1, moves1[0]\n",
    "        for move1 in moves1:\n",
    "            ns = half_move(state, move1, double_assassin)\n",
    "            v1 = statevalue(ns, s2val, s2moves, double_assassin, mylinprog)\n",
    "            if v1 > v:\n",
    "                v = v1\n",
    "                maxmove1 = move1\n",
    "        moves = []\n",
    "        for i, move1 in enumerate(moves1):\n",
    "            moves.append((move1, 1 if move1 == maxmove1 else 0))\n",
    "        s2moves[state] = moves\n",
    "    else:\n",
    "        assert dspy == 1\n",
    "        if prevcard < 0:\n",
    "            return -statevalue(neg_state(state), s2val, s2moves, double_assassin, mylinprog)\n",
    "        moves1 = mask2moves(mask1)\n",
    "        v, maxmove1 = -1, moves1[0]\n",
    "        for move1 in moves1:\n",
    "            ns = half_move(state, move1, double_assassin)\n",
    "            v1 = statevalue(ns, s2val, s2moves, double_assassin, mylinprog)\n",
    "            if v1 > v:\n",
    "                v = v1\n",
    "                maxmove1 = move1\n",
    "#                v = max(v, statevalue(ns, s2val, s2moves, double_assassin, mylinprog))\n",
    "        moves = []\n",
    "        for i, move1 in enumerate(moves1):\n",
    "            moves.append((move1, 1 if move1 == maxmove1 else 0))\n",
    "        s2moves[state] = moves\n",
    "    s2val[state] = v\n",
    "    return v\n",
    "    \n",
    "\n",
    "import json\n",
    "def save_s2val(file, s2val):\n",
    "    ret = []\n",
    "    for state in s2val:\n",
    "        ((mask1, mask2), (score1, score2), (wscore1, wscore2), dspy, dgeneral, prevcard) = state\n",
    "        v = str(s2val[state])\n",
    "        ret.append([mask1, mask2, score1, score2, wscore1, wscore2, dspy, dgeneral, prevcard, v])\n",
    "    s = json.dumps(ret)\n",
    "    with open(file, 'wt') as wf:\n",
    "        wf.write(s)\n",
    "\n",
    "def load_s2val(file, str2num=float):\n",
    "    s2val = {}\n",
    "    with open(file, 'rt') as rf:\n",
    "        s = json.load(rf)\n",
    "    for mask1, mask2, score1, score2, wscore1, wscore2, dspy, dgeneral, prevcard, v in s:\n",
    "        s2val[((mask1, mask2), (score1, score2), (wscore1, wscore2), dspy, dgeneral, prevcard)] = str2num(v)\n",
    "    return s2val\n",
    "def save_s2move(file, s2moves):\n",
    "    ret = []\n",
    "    for state in s2moves:\n",
    "        ((mask1, mask2), (score1, score2), (wscore1, wscore2), dspy, dgeneral, prevcard) = state\n",
    "        vs = []\n",
    "        for m, p in s2moves[state]:\n",
    "            vs.append([m, str(p)])\n",
    "        ret.append([mask1, mask2, score1, score2, wscore1, wscore2, dspy, dgeneral, prevcard, vs])\n",
    "    with open(file, 'wt') as wf:\n",
    "        json.dump(ret, wf)\n",
    "def load_s2move(file, str2num=float):\n",
    "    s2moves = {}\n",
    "    with open(file, 'rt') as rf:\n",
    "        s = json.load(rf)\n",
    "    for mask1, mask2, score1, score2, wscore1, wscore2, dspy, dgeneral, prevcard, vs in s:\n",
    "        s2moves[((mask1, mask2), (score1, score2), (wscore1, wscore2), dspy, dgeneral, prevcard)] = [[x[0], str2num(x[1])] for x in vs]\n",
    "    return s2moves\n",
    "  \n"
   ]
  },
  {
   "cell_type": "markdown",
   "metadata": {
    "id": "pbscr9e4yIRb"
   },
   "source": [
    "## 計算と保存"
   ]
  },
  {
   "cell_type": "code",
   "execution_count": 16,
   "metadata": {
    "executionInfo": {
     "elapsed": 1028008,
     "status": "ok",
     "timestamp": 1634016651845,
     "user": {
      "displayName": "Tetsuro Tanaka",
      "photoUrl": "https://lh3.googleusercontent.com/a/default-user=s64",
      "userId": "10975618971026381564"
     },
     "user_tz": -540
    },
    "id": "9JptSk998ypC"
   },
   "outputs": [],
   "source": [
    "# s2valの計算\n",
    "s2val = {}\n",
    "s2moves = {}\n",
    "statevalue(init_state, s2val, s2moves)\n",
    "save_s2val('s2val.txt', s2val)\n",
    "save_s2move('s2moves.txt', s2moves)"
   ]
  },
  {
   "cell_type": "code",
   "execution_count": 19,
   "metadata": {
    "collapsed": true,
    "executionInfo": {
     "elapsed": 1059543,
     "status": "ok",
     "timestamp": 1634018044357,
     "user": {
      "displayName": "Tetsuro Tanaka",
      "photoUrl": "https://lh3.googleusercontent.com/a/default-user=s64",
      "userId": "10975618971026381564"
     },
     "user_tz": -540
    },
    "id": "M5I-8JFY-F4b"
   },
   "outputs": [],
   "source": [
    "# s2val_daの計算\n",
    "s2val_da = {}\n",
    "s2moves_da = {}\n",
    "statevalue(init_state, s2val_da, s2moves_da, double_assassin=True)\n",
    "save_s2val('s2val_da.txt', s2val_da)\n",
    "save_s2move('s2moves_da.txt', s2moves_da)"
   ]
  },
  {
   "cell_type": "code",
   "execution_count": 19,
   "metadata": {},
   "outputs": [],
   "source": [
    "save_s2val('s2val_da.txt', s2val_da)\n",
    "save_s2move('s2moves_da.txt', s2moves_da)"
   ]
  },
  {
   "cell_type": "markdown",
   "metadata": {},
   "source": [
    "## 厳密解の計算\n",
    "\n",
    "線形計画法の厳密解ソルバとして有名なものは，として QSOpt_ex , SoPlex などがあるが，本研究では　Dmitry Shintyakov 氏が作成したPython言語のみで書かれた Simplex 法プログラムhttps://github.com/dmishin/pylinprog を使用する．\n"
   ]
  },
  {
   "cell_type": "code",
   "execution_count": 7,
   "metadata": {},
   "outputs": [
    {
     "name": "stdout",
     "output_type": "stream",
     "text": [
      "  % Total    % Received % Xferd  Average Speed   Time    Time     Time  Current\n",
      "                                 Dload  Upload   Total   Spent    Left  Speed\n",
      "100 14077  100 14077    0     0  40567      0 --:--:-- --:--:-- --:--:-- 40567\n"
     ]
    }
   ],
   "source": [
    "!curl -O https://raw.githubusercontent.com/dmishin/pylinprog/master/linprog.py"
   ]
  },
  {
   "cell_type": "code",
   "execution_count": 53,
   "metadata": {},
   "outputs": [],
   "source": [
    "from fractions import Fraction\n",
    "from linprog import linsolve\n",
    "from linprog import RationalNumbers\n",
    "from linprog import simplex_canonical_m\n",
    "def toFrac(x):\n",
    "    if x is None or isinstance(x, Fraction):\n",
    "        return x\n",
    "    return Fraction(x)\n",
    "class linres:\n",
    "    def __init__(self, x):\n",
    "        self.x = x\n",
    "\n",
    "def exact_linprog(C, A_eq, b_eq, A_ub, b_ub, bounds, method='simplex',callback=None,options=None):\n",
    "    nonneg_variables = []\n",
    "    for i, (low, high) in enumerate(bounds):\n",
    "        if low == 0:\n",
    "            nonneg_variables.append(i)\n",
    "    num = RationalNumbers()\n",
    "    print('nonneg_variables', nonneg_variables)\n",
    "    resolution, sol = linsolve(C, ineq_left=A_ub, ineq_right=b_ub, eq_left=A_eq, eq_right=b_eq, \n",
    "                               nonneg_variables = nonneg_variables, num=num)\n",
    "    return linres(sol)"
   ]
  },
  {
   "cell_type": "code",
   "execution_count": 9,
   "metadata": {},
   "outputs": [],
   "source": [
    "# s2valの計算\n",
    "s2val_exact = {}\n",
    "s2moves_exact = {}\n",
    "statevalue(init_state, s2val_exact, s2moves_exact, mylinprog=exact_linprog)\n",
    "save_s2val('s2val_exact.txt', s2val_exact)\n",
    "save_s2move('s2moves_exact.txt', s2moves_exact)"
   ]
  },
  {
   "cell_type": "code",
   "execution_count": 10,
   "metadata": {},
   "outputs": [],
   "source": [
    "# s2valの計算\n",
    "s2val_da_exact = {}\n",
    "s2moves_da_exact = {}\n",
    "statevalue(init_state, s2val_da_exact, s2moves_da_exact, double_assassin=True, mylinprog=exact_linprog)\n",
    "save_s2val('s2val_da_exact.txt', s2val_da_exact)\n",
    "save_s2move('s2moves_da_exact.txt', s2moves_da_exact)"
   ]
  },
  {
   "cell_type": "code",
   "execution_count": 20,
   "metadata": {},
   "outputs": [],
   "source": [
    "# 厳密解と通常解との差がないかどうかの検証\n",
    "for k in s2val:\n",
    "    if abs(s2val[k] - s2val_exact[k]) > 1e-8:\n",
    "        print('k, s2val, s2val_exact', (k, s2val[k], s2val_exact[k]))"
   ]
  },
  {
   "cell_type": "markdown",
   "metadata": {
    "id": "JqZP4oGkndRk"
   },
   "source": [
    "## ロード\n"
   ]
  },
  {
   "cell_type": "code",
   "execution_count": null,
   "metadata": {},
   "outputs": [],
   "source": []
  },
  {
   "cell_type": "code",
   "execution_count": 6,
   "metadata": {
    "executionInfo": {
     "elapsed": 10655,
     "status": "ok",
     "timestamp": 1634089247889,
     "user": {
      "displayName": "Tetsuro Tanaka",
      "photoUrl": "https://lh3.googleusercontent.com/a/default-user=s64",
      "userId": "10975618971026381564"
     },
     "user_tz": -540
    },
    "id": "-ti2aAj7ndRk"
   },
   "outputs": [],
   "source": [
    "s2val = load_s2val('s2val.txt')\n",
    "s2moves = load_s2move('s2moves.txt')"
   ]
  },
  {
   "cell_type": "code",
   "execution_count": 18,
   "metadata": {
    "executionInfo": {
     "elapsed": 10351,
     "status": "ok",
     "timestamp": 1634046382140,
     "user": {
      "displayName": "Tetsuro Tanaka",
      "photoUrl": "https://lh3.googleusercontent.com/a/default-user=s64",
      "userId": "10975618971026381564"
     },
     "user_tz": -540
    },
    "id": "OKsfcHyyLuwY"
   },
   "outputs": [],
   "source": [
    "s2val_da = load_s2val('s2val_da.txt')\n",
    "s2moves_da = load_s2move('s2moves_da.txt')"
   ]
  },
  {
   "cell_type": "code",
   "execution_count": 15,
   "metadata": {},
   "outputs": [
    {
     "ename": "FileNotFoundError",
     "evalue": "[Errno 2] No such file or directory: 's2moves_exact.txt'",
     "output_type": "error",
     "traceback": [
      "\u001b[0;31m---------------------------------------------------------------------------\u001b[0m",
      "\u001b[0;31mFileNotFoundError\u001b[0m                         Traceback (most recent call last)",
      "\u001b[0;32m<ipython-input-15-bdb529a53418>\u001b[0m in \u001b[0;36m<module>\u001b[0;34m\u001b[0m\n\u001b[1;32m      1\u001b[0m \u001b[0ms2val_exact\u001b[0m \u001b[0;34m=\u001b[0m \u001b[0mload_s2val\u001b[0m\u001b[0;34m(\u001b[0m\u001b[0;34m's2val_exact.txt'\u001b[0m\u001b[0;34m,\u001b[0m \u001b[0mstr2num\u001b[0m\u001b[0;34m=\u001b[0m\u001b[0mFraction\u001b[0m\u001b[0;34m)\u001b[0m\u001b[0;34m\u001b[0m\u001b[0;34m\u001b[0m\u001b[0m\n\u001b[0;32m----> 2\u001b[0;31m \u001b[0ms2moves_exact\u001b[0m \u001b[0;34m=\u001b[0m \u001b[0mload_s2val\u001b[0m\u001b[0;34m(\u001b[0m\u001b[0;34m's2moves_exact.txt'\u001b[0m\u001b[0;34m,\u001b[0m \u001b[0mstr2num\u001b[0m\u001b[0;34m=\u001b[0m\u001b[0mFraction\u001b[0m\u001b[0;34m)\u001b[0m\u001b[0;34m\u001b[0m\u001b[0;34m\u001b[0m\u001b[0m\n\u001b[0m",
      "\u001b[0;32m<ipython-input-5-9131defd20dc>\u001b[0m in \u001b[0;36mload_s2val\u001b[0;34m(file, str2num)\u001b[0m\n\u001b[1;32m     89\u001b[0m \u001b[0;32mdef\u001b[0m \u001b[0mload_s2val\u001b[0m\u001b[0;34m(\u001b[0m\u001b[0mfile\u001b[0m\u001b[0;34m,\u001b[0m \u001b[0mstr2num\u001b[0m\u001b[0;34m=\u001b[0m\u001b[0mfloat\u001b[0m\u001b[0;34m)\u001b[0m\u001b[0;34m:\u001b[0m\u001b[0;34m\u001b[0m\u001b[0;34m\u001b[0m\u001b[0m\n\u001b[1;32m     90\u001b[0m     \u001b[0ms2val\u001b[0m \u001b[0;34m=\u001b[0m \u001b[0;34m{\u001b[0m\u001b[0;34m}\u001b[0m\u001b[0;34m\u001b[0m\u001b[0;34m\u001b[0m\u001b[0m\n\u001b[0;32m---> 91\u001b[0;31m     \u001b[0;32mwith\u001b[0m \u001b[0mopen\u001b[0m\u001b[0;34m(\u001b[0m\u001b[0mfile\u001b[0m\u001b[0;34m,\u001b[0m \u001b[0;34m'rt'\u001b[0m\u001b[0;34m)\u001b[0m \u001b[0;32mas\u001b[0m \u001b[0mrf\u001b[0m\u001b[0;34m:\u001b[0m\u001b[0;34m\u001b[0m\u001b[0;34m\u001b[0m\u001b[0m\n\u001b[0m\u001b[1;32m     92\u001b[0m         \u001b[0ms\u001b[0m \u001b[0;34m=\u001b[0m \u001b[0mjson\u001b[0m\u001b[0;34m.\u001b[0m\u001b[0mload\u001b[0m\u001b[0;34m(\u001b[0m\u001b[0mrf\u001b[0m\u001b[0;34m)\u001b[0m\u001b[0;34m\u001b[0m\u001b[0;34m\u001b[0m\u001b[0m\n\u001b[1;32m     93\u001b[0m     \u001b[0;32mfor\u001b[0m \u001b[0mmask1\u001b[0m\u001b[0;34m,\u001b[0m \u001b[0mmask2\u001b[0m\u001b[0;34m,\u001b[0m \u001b[0mscore1\u001b[0m\u001b[0;34m,\u001b[0m \u001b[0mscore2\u001b[0m\u001b[0;34m,\u001b[0m \u001b[0mwscore1\u001b[0m\u001b[0;34m,\u001b[0m \u001b[0mwscore2\u001b[0m\u001b[0;34m,\u001b[0m \u001b[0mdspy\u001b[0m\u001b[0;34m,\u001b[0m \u001b[0mdgeneral\u001b[0m\u001b[0;34m,\u001b[0m \u001b[0mprevcard\u001b[0m\u001b[0;34m,\u001b[0m \u001b[0mv\u001b[0m \u001b[0;32min\u001b[0m \u001b[0ms\u001b[0m\u001b[0;34m:\u001b[0m\u001b[0;34m\u001b[0m\u001b[0;34m\u001b[0m\u001b[0m\n",
      "\u001b[0;31mFileNotFoundError\u001b[0m: [Errno 2] No such file or directory: 's2moves_exact.txt'"
     ]
    }
   ],
   "source": [
    "s2val_exact = load_s2val('s2val_exact.txt', str2num=Fraction)\n",
    "s2moves_exact = load_s2val('s2moves_exact.txt', str2num=Fraction)"
   ]
  },
  {
   "cell_type": "code",
   "execution_count": 17,
   "metadata": {
    "executionInfo": {
     "elapsed": 249,
     "status": "ok",
     "timestamp": 1634038339487,
     "user": {
      "displayName": "Tetsuro Tanaka",
      "photoUrl": "https://lh3.googleusercontent.com/a/default-user=s64",
      "userId": "10975618971026381564"
     },
     "user_tz": -540
    },
    "id": "4sOH55VVQSQy"
   },
   "outputs": [],
   "source": [
    "import math\n",
    "def move_entropy(moves):\n",
    "    e = 0\n",
    "    for m, p in moves:\n",
    "        if abs(p) > 1e-7:\n",
    "            e -= p * math.log2(p)\n",
    "    return e\n",
    "def av_entropy(s2moves):\n",
    "    n, sum = len(s2moves), 0\n",
    "    for s in s2moves:\n",
    "        sum += move_entropy(s2moves[s])\n",
    "    return sum / n"
   ]
  },
  {
   "cell_type": "code",
   "execution_count": 18,
   "metadata": {
    "colab": {
     "base_uri": "https://localhost:8080/"
    },
    "executionInfo": {
     "elapsed": 1857,
     "status": "ok",
     "timestamp": 1634038342399,
     "user": {
      "displayName": "Tetsuro Tanaka",
      "photoUrl": "https://lh3.googleusercontent.com/a/default-user=s64",
      "userId": "10975618971026381564"
     },
     "user_tz": -540
    },
    "id": "Jq61ZzQtQnXm",
    "outputId": "8007aeb6-b70d-468b-e39b-c3170feaf709"
   },
   "outputs": [
    {
     "name": "stdout",
     "output_type": "stream",
     "text": [
      "0.33499687586473725\n",
      "0.3351210820690229\n"
     ]
    }
   ],
   "source": [
    "print(av_entropy(s2moves))\n",
    "print(av_entropy(s2moves_da))"
   ]
  },
  {
   "cell_type": "code",
   "execution_count": 107,
   "metadata": {
    "colab": {
     "base_uri": "https://localhost:8080/"
    },
    "executionInfo": {
     "elapsed": 235,
     "status": "ok",
     "timestamp": 1634036846975,
     "user": {
      "displayName": "Tetsuro Tanaka",
      "photoUrl": "https://lh3.googleusercontent.com/a/default-user=s64",
      "userId": "10975618971026381564"
     },
     "user_tz": -540
    },
    "id": "nD_zs1NDL3k7",
    "outputId": "2b7a8af0-29fa-4db1-e185-a8f7e50e9e36"
   },
   "outputs": [
    {
     "data": {
      "text/plain": [
       "[[0, 0.0],\n",
       " [1, 0.0],\n",
       " [2, 0.22156547500456714],\n",
       " [3, 0.2727160147959849],\n",
       " [4, 0.22684188446747675],\n",
       " [5, 0.23458771023167016],\n",
       " [6, 0.0],\n",
       " [7, 0.04428891550030123]]"
      ]
     },
     "execution_count": 107,
     "metadata": {},
     "output_type": "execute_result"
    }
   ],
   "source": [
    "s2moves_da[init_state]"
   ]
  },
  {
   "cell_type": "code",
   "execution_count": 26,
   "metadata": {
    "colab": {
     "base_uri": "https://localhost:8080/"
    },
    "executionInfo": {
     "elapsed": 1415,
     "status": "ok",
     "timestamp": 1634046853146,
     "user": {
      "displayName": "Tetsuro Tanaka",
      "photoUrl": "https://lh3.googleusercontent.com/a/default-user=s64",
      "userId": "10975618971026381564"
     },
     "user_tz": -540
    },
    "id": "U9W6gdPewXfg",
    "outputId": "246711e7-7188-44f9-d8b5-8f0cd864104f"
   },
   "outputs": [
    {
     "name": "stdout",
     "output_type": "stream",
     "text": [
      "1 0 & 2600 & 0 & 0 & 0 & 0 & 0 & 0 & 0 \\\\\n",
      "2 0 & 19333 & 6041 & 0 & 0 & 0 & 0 & 0 & 0 \\\\\n",
      "3 0 & 58522 & 33351 & 10218 & 0 & 0 & 0 & 0 & 0 \\\\\n",
      "4 0 & 38200 & 33424 & 32451 & 6711 & 0 & 0 & 0 & 0 \\\\\n",
      "5 0 & 4005 & 4997 & 10469 & 7522 & 879 & 0 & 0 & 0 \\\\\n",
      "6 0 & 73 & 169 & 539 & 769 & 334 & 18 & 0 & 0 \\\\\n",
      "7 0 & 2 & 4 & 7 & 12 & 23 & 0 & 2 & 0 \\\\\n",
      "8 0 & 0 & 0 & 0 & 0 & 1 & 0 & 0 & 0 \\\\\n"
     ]
    }
   ],
   "source": [
    "# 有効な手の数の分布\n",
    "counter = [[0] * 9 for _ in range(9)]\n",
    "for s in s2moves:\n",
    "    ((mask1, mask2), (score1, score2), (wscore1, wscore2), dspy, dgeneral, prevcard) = s\n",
    "    if dspy != 0:\n",
    "        continue\n",
    "    moves1 = mask2moves(mask1)\n",
    "    c = 0\n",
    "    for m, p in s2moves[s]:\n",
    "        if abs(p) > 1e-5:\n",
    "            c += 1\n",
    "    counter[len(moves1)][c] += 1\n",
    "for i in range(1, 9):\n",
    "    print(i, ' & ', ' & '.join(str(x) for x in counter[i]), '\\\\\\\\')\n"
   ]
  },
  {
   "cell_type": "code",
   "execution_count": 25,
   "metadata": {
    "colab": {
     "base_uri": "https://localhost:8080/"
    },
    "executionInfo": {
     "elapsed": 1071,
     "status": "ok",
     "timestamp": 1634046618511,
     "user": {
      "displayName": "Tetsuro Tanaka",
      "photoUrl": "https://lh3.googleusercontent.com/a/default-user=s64",
      "userId": "10975618971026381564"
     },
     "user_tz": -540
    },
    "id": "7uF4JSijxBin",
    "outputId": "e3fed0f9-9c0d-4a7f-d9df-8bdf5169ceb1"
   },
   "outputs": [
    {
     "name": "stdout",
     "output_type": "stream",
     "text": [
      "(([0, 2, 3, 4, 5, 6, 7], [0, 2, 3, 4, 5, 6, 7]), (0, 0), (2, 2), 0, 0, -1) [[0, 0.0517937223194431], [2, 0.11710612268515189], [3, 0.11500446542004991], [4, 0.2586258335209888], [5, 0.052347813527134454], [6, 0.022836987924059374], [7, 0.38228505460317336]]\n",
      "(([0, 1, 3, 4, 5, 6, 7], [0, 1, 3, 4, 5, 6, 7]), (0, 0), (2, 2), 0, 0, -1) [[0, 0.01797619957037535], [1, 0.13854410520767946], [3, 0.21004981633151606], [4, 0.24359466823870493], [5, 0.13570789167881342], [6, 0.0683403288805108], [7, 0.1857869900923998]]\n"
     ]
    }
   ],
   "source": [
    "for s in s2moves:\n",
    "    ((mask1, mask2), (score1, score2), (wscore1, wscore2), dspy, dgeneral, prevcard) = s\n",
    "    if dspy != 0:\n",
    "        continue\n",
    "    c = 0\n",
    "    for m, p in s2moves[s]:\n",
    "        if abs(p) > 1e-5:\n",
    "            c += 1\n",
    "    if c == 7:\n",
    "        print(state2moves(s), s2moves[s])"
   ]
  },
  {
   "cell_type": "markdown",
   "metadata": {
    "id": "wKSTQaXzLpkW"
   },
   "source": [
    "# 値の分布\n",
    "pandasを使ってヒストグラムを作成する．"
   ]
  },
  {
   "cell_type": "code",
   "execution_count": null,
   "metadata": {
    "id": "mEHFbqoY9OJq"
   },
   "outputs": [],
   "source": [
    "%matplotlib inline\n",
    "import pandas as pd\n",
    "import matplotlib.pyplot as plot\n",
    "s = pd.Series(list(s2val.values()))\n",
    "s.hist()\n",
    "    \n"
   ]
  },
  {
   "cell_type": "markdown",
   "metadata": {
    "id": "b5eJ9hHEndRl"
   },
   "source": [
    "## 初期局面での戦略\n",
    "まずは，初期局面でのナッシュ均衡戦略を表示する．\n",
    "```\n",
    "s2val[init_state]\n",
    "```\n",
    "は，ゲームの対称性から0になるはずである．実際に求めてみると，\n",
    "```\n",
    "8.782536712126523e-17\n",
    "```\n",
    "とほぼ0になっていることがわかる．\n"
   ]
  },
  {
   "cell_type": "code",
   "execution_count": null,
   "metadata": {
    "id": "Mz4N0b2BndRl"
   },
   "outputs": [],
   "source": [
    "s2val[init_state]"
   ]
  },
  {
   "cell_type": "code",
   "execution_count": null,
   "metadata": {
    "id": "Mc1Ua8LAT0OC"
   },
   "outputs": [],
   "source": []
  },
  {
   "cell_type": "markdown",
   "metadata": {
    "id": "Z-J5DkVdT04z"
   },
   "source": [
    "初期状態の利得行列を表示する．"
   ]
  },
  {
   "cell_type": "code",
   "execution_count": 15,
   "metadata": {
    "executionInfo": {
     "elapsed": 350,
     "status": "ok",
     "timestamp": 1634089876006,
     "user": {
      "displayName": "Tetsuro Tanaka",
      "photoUrl": "https://lh3.googleusercontent.com/a/default-user=s64",
      "userId": "10975618971026381564"
     },
     "user_tz": -540
    },
    "id": "5blDB0y5T_P6"
   },
   "outputs": [],
   "source": [
    "def print_return_matrix(state, double_assassin=False):\n",
    "    ((mask1, mask2), (score1, score2), (wscore1, wscore2), dspy, dgeneral, prevcard) = state\n",
    "    moves1, moves2 = mask2moves(mask1), mask2moves(mask2)\n",
    "    n = len(moves1)\n",
    "    print('P1＼P2', end='')\n",
    "    for j, m2 in enumerate(moves2):\n",
    "        print('&', m2, end='')\n",
    "    print('\\\\\\\\')\n",
    "    def roundstr(v):\n",
    "        if abs(v) < 1e-7:\n",
    "            return '0'\n",
    "        elif abs(v - 1) < 1e-7:\n",
    "            return '1'\n",
    "        elif abs(v + 1) < 1e-7:\n",
    "            return '-1'\n",
    "        return f'{v:0.5f}'\n",
    "    for i, m1 in enumerate(moves1):\n",
    "        print(m1, end='')\n",
    "        for j, m2 in enumerate(moves2):\n",
    "            ns = next_state(state, m1, m2, double_assassin)\n",
    "            v = statevalue(ns, s2val_da if double_assassin else s2val, s2moves_da if double_assassin else s2moves, double_assassin)\n",
    "            print(f' & {roundstr(v)}',end='')\n",
    "        print('\\\\\\\\')\n",
    "\n"
   ]
  },
  {
   "cell_type": "code",
   "execution_count": 16,
   "metadata": {
    "colab": {
     "base_uri": "https://localhost:8080/"
    },
    "executionInfo": {
     "elapsed": 292,
     "status": "ok",
     "timestamp": 1634089878059,
     "user": {
      "displayName": "Tetsuro Tanaka",
      "photoUrl": "https://lh3.googleusercontent.com/a/default-user=s64",
      "userId": "10975618971026381564"
     },
     "user_tz": -540
    },
    "id": "j92wPwCaVZSG",
    "outputId": "f26017eb-7494-4d69-cc7f-a2f82fbd4d27"
   },
   "outputs": [
    {
     "name": "stdout",
     "output_type": "stream",
     "text": [
      "P1＼P2& 0& 1& 2& 3& 4& 5& 6& 7\\\\\n",
      "0 & 0 & -0.01177 & -0.49893 & 0.04516 & -0.10607 & 0.00193 & 0.07208 & 0.35812\\\\\n",
      "1 & 0.01177 & 0 & -0.49910 & 0.32692 & -0.61282 & -0.01548 & 0.01164 & 1\\\\\n",
      "2 & 0.49893 & 0.49910 & 0 & 0.31530 & -0.42120 & -0.01222 & 0.01580 & 0.28045\\\\\n",
      "3 & -0.04516 & -0.32692 & -0.31530 & 0 & 0.31017 & -0.01332 & 0.36280 & 0.05922\\\\\n",
      "4 & 0.10607 & 0.61282 & 0.42120 & -0.31017 & 0 & -0.02830 & -0.05954 & -0.05382\\\\\n",
      "5 & -0.00193 & 0.01548 & 0.01222 & 0.01332 & 0.02830 & 0 & -0.26833 & -0.28208\\\\\n",
      "6 & -0.07208 & -0.01164 & -0.01580 & -0.36280 & 0.05954 & 0.26833 & 0 & -0.23217\\\\\n",
      "7 & -0.35812 & -1 & -0.28045 & -0.05922 & 0.05382 & 0.28208 & 0.23217 & 0\\\\\n"
     ]
    }
   ],
   "source": [
    "print_return_matrix(init_state)"
   ]
  },
  {
   "cell_type": "markdown",
   "metadata": {
    "id": "SlFe5qkhndRm"
   },
   "source": [
    "次に，ナッシュ均衡戦略で，どのアクションをどの確率でどの確率で生成するかを表示する．\n",
    "```\n",
    "s2moves[init_state]\n",
    "```\n",
    "の実行結果は\n",
    "```\n",
    "[[0, 0.0],\n",
    " [1, 0.0],\n",
    " [2, 0.22175583508357324],\n",
    " [3, 0.2719122699143252],\n",
    " [4, 0.22684759633778984],\n",
    " [5, 0.23428083687676557],\n",
    " [6, 0.0],\n",
    " [7, 0.0452034617875461]]\n",
    " ```\n",
    " となるので，\n",
    "* 「道化(0)」，「姫(1)」，「将軍(6)」は出さない\n",
    "* スパイ(2)は確率 0.22175583508357324 で出す\n",
    "* 暗殺者(3)は確率 0.2719122699143252 で出す\n",
    "* 大臣(4)は確率 0.22684759633778984 で出す\n",
    "* 魔術師(5)は確率 0.23428083687676557 で出す\n",
    "* 王子(7)は確率 0.0452034617875461 で出す\n",
    "で出す戦略が，ナッシュ均衡戦略であることがわかる．\n",
    "\n",
    "なお，2人零和ゲームの性質により，ナッシュ均衡でのゲーム値の一意性は保証されるが，戦略には複数のナッシュ均衡があり得るので，もう少し詳しく検証する．\n",
    "\n",
    "まず，「道化(0)」，「姫(1)」，「将軍(6)」を出したときの，相手が上記の戦略を採用したときの，期待値を求める．\n",
    "\n"
   ]
  },
  {
   "cell_type": "code",
   "execution_count": null,
   "metadata": {
    "id": "ZeaLGhFNndRm"
   },
   "outputs": [],
   "source": [
    "s2moves[init_state]"
   ]
  },
  {
   "cell_type": "code",
   "execution_count": null,
   "metadata": {
    "id": "A859RVWNoP4K"
   },
   "outputs": [],
   "source": [
    "# 同時のみ\n",
    "def val_against_nash(state,s2val,s2moves):\n",
    "    ((mask1, mask2), (score1, score2), (wscore1, wscore2), dspy, dgeneral, prevcard) = state\n",
    "    moves1 = mask2moves(mask1)\n",
    "    allans = []\n",
    "    for move1 in moves1:\n",
    "        ans = 0\n",
    "        ret = []\n",
    "        for move2, p in s2moves[neg_state(state)]:\n",
    "            ns = next_state(state, move1, move2)\n",
    "            v = statevalue(ns,s2val, s2moves)\n",
    "            ans += p * v\n",
    "            ret.append([move2, v])\n",
    "        print('move1', move1, 'ans', ans, 'ret', ret)\n",
    "        allans.append((move1, ans))\n",
    "    return allans\n",
    "\n",
    "\n"
   ]
  },
  {
   "cell_type": "markdown",
   "metadata": {
    "id": "sYcWgERondRm"
   },
   "source": [
    "結果は，\n",
    "```\n",
    "[(0, -0.1057820599352605),\n",
    " (1, -0.11922403397700802),\n",
    " (2, 1.708702623837155e-15),\n",
    " (3, -1.0568802777388697e-15),\n",
    " (4, -6.92154666914746e-16),\n",
    " (5, -7.441963711940502e-16),\n",
    " (6, -0.036274634064723046),\n",
    " (7, 1.6958638798894469e-16)]\n",
    "```\n",
    "なので，勝ちを1，負けを-1, 引き分けを0として，道化，姫，将軍を出すと期待値が，\n",
    "\n",
    "* 道化(0) -0.1057820599352605\n",
    "* 姫(1) -0.11922403397700802\n",
    "* 将軍(6) -0.036274634064723046\n",
    "\n",
    "と，ナッシュ均衡での利得0を下回ることがわかる．\n",
    "\n"
   ]
  },
  {
   "cell_type": "code",
   "execution_count": null,
   "metadata": {
    "id": "OmNuuxXNndRn"
   },
   "outputs": [],
   "source": [
    "val_against_nash(init_state,s2val, s2moves)"
   ]
  },
  {
   "cell_type": "markdown",
   "metadata": {
    "id": "cKPKnp6ZZMGE"
   },
   "source": [
    "## ナッシュ均衡戦略同士の対戦結果\n",
    "求まったナッシュ均衡戦略同士の対戦結果を解析する．\n",
    "まずは，各stateの到達確率を求める．"
   ]
  },
  {
   "cell_type": "code",
   "execution_count": 24,
   "metadata": {
    "executionInfo": {
     "elapsed": 278,
     "status": "ok",
     "timestamp": 1634093067338,
     "user": {
      "displayName": "Tetsuro Tanaka",
      "photoUrl": "https://lh3.googleusercontent.com/a/default-user=s64",
      "userId": "10975618971026381564"
     },
     "user_tz": -540
    },
    "id": "pHl7rmBIawGO"
   },
   "outputs": [],
   "source": [
    "def addprob(state, v, probs, s2moves):\n",
    "    if state not in s2moves:\n",
    "        ns = neg_state(state)\n",
    "        probs[ns] = probs.get(ns, 0) + v\n",
    "    else:\n",
    "        probs[state] = probs.get(state, 0) + v\n",
    "\n",
    "\n",
    "def propagate_prob(state, s2moves, probs, double_assassin=False):\n",
    "    if is_final(state):\n",
    "        return\n",
    "    if state not in probs:\n",
    "        return\n",
    "    p = probs[state]\n",
    "    ((mask1, mask2), (score1, score2), (wscore1, wscore2), dspy, dgeneral, prevcard) = state\n",
    "    negs = neg_state(state)\n",
    "    if dspy == 0:\n",
    "        v = 0\n",
    "        for m1, p1 in s2moves[state]:\n",
    "            for m2, p2 in s2moves[negs]:\n",
    "                ns = next_state(state, m1, m2, double_assassin)\n",
    "                addprob(ns, p * p1 * p2, probs, s2moves)\n",
    "    elif dspy == -1:\n",
    "        assert prevcard < 0\n",
    "        for m1, p1 in s2moves[state]:\n",
    "            ns = half_move(state, m1, double_assassin)\n",
    "            addprob(ns, p * p1, probs, s2moves)\n",
    "    else:\n",
    "        assert dspy == 1\n",
    "        assert prevcard >= 0\n",
    "        for m1, p1 in s2moves[state]:\n",
    "            ns = half_move(state, m1, double_assassin)\n",
    "            addprob(ns, p * p1, probs, s2moves)"
   ]
  },
  {
   "cell_type": "code",
   "execution_count": 26,
   "metadata": {
    "executionInfo": {
     "elapsed": 26085,
     "status": "ok",
     "timestamp": 1634093110438,
     "user": {
      "displayName": "Tetsuro Tanaka",
      "photoUrl": "https://lh3.googleusercontent.com/a/default-user=s64",
      "userId": "10975618971026381564"
     },
     "user_tz": -540
    },
    "id": "ELpDaa63ZLXy"
   },
   "outputs": [],
   "source": [
    "probs = {}\n",
    "probs[init_state] = 1\n",
    "for level_states in all_states:\n",
    "    for s in level_states:\n",
    "        if s[5] < 0:\n",
    "            propagate_prob(s, s2moves, probs)\n",
    "    for s in level_states:\n",
    "        if s[5] >= 0:\n",
    "            propagate_prob(s, s2moves, probs)\n"
   ]
  },
  {
   "cell_type": "code",
   "execution_count": 27,
   "metadata": {
    "colab": {
     "base_uri": "https://localhost:8080/"
    },
    "executionInfo": {
     "elapsed": 1320,
     "status": "ok",
     "timestamp": 1634093226651,
     "user": {
      "displayName": "Tetsuro Tanaka",
      "photoUrl": "https://lh3.googleusercontent.com/a/default-user=s64",
      "userId": "10975618971026381564"
     },
     "user_tz": -540
    },
    "id": "n3fajYgNilYU",
    "outputId": "08ad9ffd-1aae-4173-aa87-2a5931a6ea6b"
   },
   "outputs": [
    {
     "name": "stdout",
     "output_type": "stream",
     "text": [
      "0 1 0\n",
      "1 0.9999999999999889 0.24125408412855104\n",
      "2 0.981415941660772 0.21133757510127288\n",
      "3 0.8992121894365418 0.20340235720958144\n",
      "4 0.7604952406413956 0.13768974072506535\n",
      "5 0.5610174398929265 0.0639573260219964\n",
      "6 0.34692120210911653 0.025036633693854265\n",
      "7 0.14853413635182935 0.0043963432904064025\n",
      "8 0 0\n"
     ]
    }
   ],
   "source": [
    "# ただしそうか?\n",
    "for i, level_states in enumerate(all_states):\n",
    "    psum = 0\n",
    "    for s in level_states:\n",
    "        if s[5] < 0:\n",
    "            psum += probs.get(s, 0)\n",
    "    psum1 = 0\n",
    "    for s in level_states:\n",
    "        if s[5] >= 0:\n",
    "            psum1 += probs.get(s, 0)\n",
    "    print(i, psum, psum1)"
   ]
  },
  {
   "cell_type": "code",
   "execution_count": 36,
   "metadata": {
    "colab": {
     "base_uri": "https://localhost:8080/"
    },
    "executionInfo": {
     "elapsed": 2982,
     "status": "ok",
     "timestamp": 1634094358921,
     "user": {
      "displayName": "Tetsuro Tanaka",
      "photoUrl": "https://lh3.googleusercontent.com/a/default-user=s64",
      "userId": "10975618971026381564"
     },
     "user_tz": -540
    },
    "id": "hjaiLLMMjMmu",
    "outputId": "6241a183-dabb-4a00-ba9c-384f5bcef5db"
   },
   "outputs": [
    {
     "name": "stdout",
     "output_type": "stream",
     "text": [
      "cards＼turn & 1 & 2 & 3 & 4 & 5 & 6 & 7 & 8  & not used \\\\\n",
      "0 & 0.00000 & 0.14488 & 0.11867 & 0.12525 & 0.14147 & 0.10949 & 0.04932 & 0.01382 & 0.29709 \\\\\n",
      "1 & 0.00000 & 0.09852 & 0.07259 & 0.08968 & 0.09935 & 0.09615 & 0.08730 & 0.05038 & 0.40603 \\\\\n",
      "2 & 0.22176 & 0.16342 & 0.11464 & 0.06882 & 0.03578 & 0.01979 & 0.01056 & 0.00348 & 0.36175 \\\\\n",
      "3 & 0.27191 & 0.15931 & 0.14973 & 0.12193 & 0.05189 & 0.03662 & 0.02154 & 0.01174 & 0.17533 \\\\\n",
      "4 & 0.22685 & 0.17773 & 0.14569 & 0.11136 & 0.07806 & 0.05767 & 0.04432 & 0.01909 & 0.13923 \\\\\n",
      "5 & 0.23428 & 0.05530 & 0.08505 & 0.09827 & 0.10931 & 0.07653 & 0.02990 & 0.00869 & 0.30268 \\\\\n",
      "6 & 0.00000 & 0.07570 & 0.14545 & 0.16684 & 0.15398 & 0.09199 & 0.05191 & 0.01520 & 0.29893 \\\\\n",
      "7 & 0.04520 & 0.12515 & 0.14961 & 0.11707 & 0.09065 & 0.07277 & 0.05207 & 0.02613 & 0.32136 \\\\\n",
      "SUM & 1.00000 & 1.00000 & 0.98142 & 0.89921 & 0.76050 & 0.56102 & 0.34692 & 0.14853 & \\\\\n"
     ]
    }
   ],
   "source": [
    "# 各ターンで出すカードの確率\n",
    "cprob = [[0] * 8 for _ in range(8)]\n",
    "for i, level_states in enumerate(all_states):\n",
    "    for s in level_states:\n",
    "        if s[5] < 0:\n",
    "            p = probs.get(s, 0)\n",
    "            if s[3] != 0:\n",
    "                p *= 0.5\n",
    "            for m, p1 in s2moves[s]:\n",
    "                cprob[i][m] += p * p1\n",
    "    for s in level_states:\n",
    "         if s[5] >= 0:\n",
    "            p = probs.get(s, 0) * 0.5\n",
    "            for m, p1 in s2moves[s]:\n",
    "                cprob[i][m] += p * p1\n",
    "print('cards＼turn &', ' & '.join(str(x) for x in range(1, 9)), ' & not used \\\\\\\\')\n",
    "for c in range(8):\n",
    "    print(c, end='')\n",
    "    for j in range(8):\n",
    "        print(f' & {cprob[j][c]:.5f}', end='')\n",
    "    notused = 1 - sum(cprob[j][c] for j in range(8))\n",
    "    print(f' & {notused:.5f} \\\\\\\\')\n",
    "print('SUM', end='')\n",
    "for j in range(8):\n",
    "    print(f' & {sum(cprob[j]):.5f}', end='')\n",
    "print(' & \\\\\\\\')"
   ]
  },
  {
   "cell_type": "code",
   "execution_count": 37,
   "metadata": {
    "colab": {
     "base_uri": "https://localhost:8080/"
    },
    "executionInfo": {
     "elapsed": 631,
     "status": "ok",
     "timestamp": 1634095105858,
     "user": {
      "displayName": "Tetsuro Tanaka",
      "photoUrl": "https://lh3.googleusercontent.com/a/default-user=s64",
      "userId": "10975618971026381564"
     },
     "user_tz": -540
    },
    "id": "YYBg8npRp3T7",
    "outputId": "061a8baf-1a16-4c6c-d4d2-5f2963e6bec7"
   },
   "outputs": [
    {
     "name": "stdout",
     "output_type": "stream",
     "text": [
      "[0.5052964662073105, 0.07584860392482332, 0.4188549298678569]\n"
     ]
    }
   ],
   "source": [
    "fs = [0] * 3\n",
    "for s in probs:\n",
    "    if is_final(s):\n",
    "        i = final_score(s)\n",
    "        fs[i + 1] += probs[s]\n",
    "print(fs)        "
   ]
  },
  {
   "cell_type": "code",
   "execution_count": 38,
   "metadata": {
    "colab": {
     "base_uri": "https://localhost:8080/"
    },
    "executionInfo": {
     "elapsed": 369,
     "status": "ok",
     "timestamp": 1634095128853,
     "user": {
      "displayName": "Tetsuro Tanaka",
      "photoUrl": "https://lh3.googleusercontent.com/a/default-user=s64",
      "userId": "10975618971026381564"
     },
     "user_tz": -540
    },
    "id": "l6jk63JUqLJh",
    "outputId": "c4858b7e-bfeb-420a-a226-49b208987623"
   },
   "outputs": [
    {
     "name": "stdout",
     "output_type": "stream",
     "text": [
      "0.9999999999999907\n"
     ]
    }
   ],
   "source": [
    "print(sum(fs))"
   ]
  },
  {
   "cell_type": "markdown",
   "metadata": {
    "id": "HVE6mKAaFX4v"
   },
   "source": [
    "# ランダムプレイヤ相手の利得\n",
    "まずは，プレイヤ0がsts[0], プレイヤ1が sts[1] の時のプレイヤ1の利得を求める．"
   ]
  },
  {
   "cell_type": "code",
   "execution_count": 50,
   "metadata": {
    "executionInfo": {
     "elapsed": 2527,
     "status": "ok",
     "timestamp": 1634022491618,
     "user": {
      "displayName": "Tetsuro Tanaka",
      "photoUrl": "https://lh3.googleusercontent.com/a/default-user=s64",
      "userId": "10975618971026381564"
     },
     "user_tz": -540
    },
    "id": "wsfaR--YFWqd"
   },
   "outputs": [],
   "source": [
    "s2random_moves = {}\n",
    "for s in s2val:\n",
    "    ((mask1, mask2), (score1, score2), (wscore1, wscore2), dspy, dgeneral, prevcard) = s\n",
    "    moves = mask2moves(mask1)\n",
    "    n = len(moves)\n",
    "    ms = [(move, 1/n) for move in moves]\n",
    "    s2random_moves[s] = ms\n"
   ]
  },
  {
   "cell_type": "code",
   "execution_count": 64,
   "metadata": {
    "executionInfo": {
     "elapsed": 213,
     "status": "ok",
     "timestamp": 1634025976414,
     "user": {
      "displayName": "Tetsuro Tanaka",
      "photoUrl": "https://lh3.googleusercontent.com/a/default-user=s64",
      "userId": "10975618971026381564"
     },
     "user_tz": -540
    },
    "id": "NObY4ID0GIC1"
   },
   "outputs": [],
   "source": [
    "from typing import List\n",
    "def state_p2_value(state, turn, sts, ps2val, double_assassin=False):\n",
    "    if is_final(state):\n",
    "        return final_score(state)\n",
    "    if (turn, state) in ps2val:\n",
    "        return ps2val[(turn, state)]\n",
    "    ((mask1, mask2), (score1, score2), (wscore1, wscore2), dspy, dgeneral, prevcard) = state\n",
    "    negs = neg_state(state)\n",
    "    if dspy == 0:\n",
    "        v = 0\n",
    "        for m1, p1 in sts[turn][state]:\n",
    "            for m2, p2 in sts[1 - turn][negs]:\n",
    "                ns = next_state(state, m1, m2, double_assassin)\n",
    "                v += p1 * p2 * state_p2_value(ns, turn, sts, ps2val, double_assassin)\n",
    "    elif dspy == -1:\n",
    "        if prevcard >= 0:\n",
    "            return -state_p2_value(negs, 1 - turn, sts, ps2val, double_assassin)\n",
    "        v = 0\n",
    "        psum = 0\n",
    "        for m1, p1 in sts[turn][state]:\n",
    "            psum += p1\n",
    "            ns = half_move(state, m1, double_assassin)\n",
    "            v += p1 * state_p2_value(ns, turn, sts, ps2val, double_assassin)\n",
    "        assert abs(psum - 1) < 1e-5\n",
    "    else:\n",
    "        assert dspy == 1\n",
    "        if prevcard < 0:\n",
    "            return -state_p2_value(negs, 1 - turn, sts, ps2val, double_assassin)\n",
    "        v = 0\n",
    "        psum = 0\n",
    "        for m1, p1 in sts[turn][state]:\n",
    "            psum += p1\n",
    "            ns = half_move(state, m1, double_assassin)\n",
    "            v += p1 * state_p2_value(ns, turn, sts, ps2val, double_assassin)\n",
    "        assert abs(psum - 1) < 1e-5\n",
    "    ps2val[(turn, state)] = v\n",
    "    return v\n",
    "\n",
    "\n",
    "\n",
    "\n"
   ]
  },
  {
   "cell_type": "code",
   "execution_count": 65,
   "metadata": {
    "colab": {
     "base_uri": "https://localhost:8080/"
    },
    "executionInfo": {
     "elapsed": 33931,
     "status": "ok",
     "timestamp": 1634026011768,
     "user": {
      "displayName": "Tetsuro Tanaka",
      "photoUrl": "https://lh3.googleusercontent.com/a/default-user=s64",
      "userId": "10975618971026381564"
     },
     "user_tz": -540
    },
    "id": "YQM9501wNO48",
    "outputId": "f00fa73f-d8e0-4c5d-e65b-e792a49aed8a"
   },
   "outputs": [
    {
     "name": "stdout",
     "output_type": "stream",
     "text": [
      "0.46077987737649917\n"
     ]
    }
   ],
   "source": [
    "ps2val = {}\n",
    "against_random = state_p2_value(init_state, 0, (s2moves, s2random_moves), ps2val)\n",
    "print(against_random)"
   ]
  },
  {
   "cell_type": "code",
   "execution_count": 66,
   "metadata": {
    "colab": {
     "base_uri": "https://localhost:8080/"
    },
    "executionInfo": {
     "elapsed": 34488,
     "status": "ok",
     "timestamp": 1634026046251,
     "user": {
      "displayName": "Tetsuro Tanaka",
      "photoUrl": "https://lh3.googleusercontent.com/a/default-user=s64",
      "userId": "10975618971026381564"
     },
     "user_tz": -540
    },
    "id": "OSv4t1yvNGmZ",
    "outputId": "771f8323-c70f-477f-bec7-d8de3436260a"
   },
   "outputs": [
    {
     "name": "stdout",
     "output_type": "stream",
     "text": [
      "3.497804170715354e-18\n"
     ]
    }
   ],
   "source": [
    "ps2val = {}\n",
    "against_self = state_p2_value(init_state, 0, (s2moves, s2moves), ps2val)\n",
    "print(against_self)"
   ]
  },
  {
   "cell_type": "markdown",
   "metadata": {
    "id": "u5nUh8wrRTWa"
   },
   "source": [
    "## deterministic moves\n"
   ]
  },
  {
   "cell_type": "code",
   "execution_count": 42,
   "metadata": {
    "executionInfo": {
     "elapsed": 2885,
     "status": "ok",
     "timestamp": 1634021624037,
     "user": {
      "displayName": "Tetsuro Tanaka",
      "photoUrl": "https://lh3.googleusercontent.com/a/default-user=s64",
      "userId": "10975618971026381564"
     },
     "user_tz": -540
    },
    "id": "53qleHr8RWm4"
   },
   "outputs": [],
   "source": [
    "s2det_moves = {}\n",
    "for s in s2val:\n",
    "    ((mask1, mask2), (score1, score2), (wscore1, wscore2), dspy, dgeneral, prevcard) = s\n",
    "    for m, v in s2moves[s]:\n",
    "        if abs(v) > 1e-5:\n",
    "            s2det_moves[s] = [(m, 1.0)]\n",
    "            break\n"
   ]
  },
  {
   "cell_type": "code",
   "execution_count": 43,
   "metadata": {
    "colab": {
     "base_uri": "https://localhost:8080/"
    },
    "executionInfo": {
     "elapsed": 686,
     "status": "ok",
     "timestamp": 1634021648159,
     "user": {
      "displayName": "Tetsuro Tanaka",
      "photoUrl": "https://lh3.googleusercontent.com/a/default-user=s64",
      "userId": "10975618971026381564"
     },
     "user_tz": -540
    },
    "id": "B0oylCExR2JQ",
    "outputId": "c0c242a1-effc-49ef-e6e7-cdb9c6117213"
   },
   "outputs": [
    {
     "name": "stdout",
     "output_type": "stream",
     "text": [
      "1.0297318553398327e-14\n"
     ]
    }
   ],
   "source": [
    "ps2val = {}\n",
    "against_det = state_p2_value(init_state, 0, (s2moves, s2det_moves), ps2val)\n",
    "print(against_det)"
   ]
  },
  {
   "cell_type": "markdown",
   "metadata": {
    "id": "ec0ZgcIKSBex"
   },
   "source": [
    "# 負ける王子は出さないが他はランダム\n"
   ]
  },
  {
   "cell_type": "code",
   "execution_count": 72,
   "metadata": {
    "executionInfo": {
     "elapsed": 5132,
     "status": "ok",
     "timestamp": 1634026242310,
     "user": {
      "displayName": "Tetsuro Tanaka",
      "photoUrl": "https://lh3.googleusercontent.com/a/default-user=s64",
      "userId": "10975618971026381564"
     },
     "user_tz": -540
    },
    "id": "fOhNA7T7SLzg"
   },
   "outputs": [],
   "source": [
    "s2noprince_moves = {}\n",
    "for s in s2val:\n",
    "    ((mask1, mask2), (score1, score2), (wscore1, wscore2), dspy, dgeneral, prevcard) = s\n",
    "    moves = mask2moves(mask1)\n",
    "    if 7 in moves and len(moves) > 1 and (prevcard == 1 or (prevcard == -1 and dspy == -1 and (mask2 & (1 << 1)) != 0)):\n",
    "        moves.remove(7)\n",
    "    n = len(moves)\n",
    "    ms = [(move, 1/n) for move in moves]\n",
    "    s2noprince_moves[s] = ms\n"
   ]
  },
  {
   "cell_type": "code",
   "execution_count": 73,
   "metadata": {
    "executionInfo": {
     "elapsed": 689,
     "status": "ok",
     "timestamp": 1634026242987,
     "user": {
      "displayName": "Tetsuro Tanaka",
      "photoUrl": "https://lh3.googleusercontent.com/a/default-user=s64",
      "userId": "10975618971026381564"
     },
     "user_tz": -540
    },
    "id": "nkVPKN01Tnic"
   },
   "outputs": [],
   "source": [
    "i = 0\n",
    "for s in s2noprince_moves:\n",
    "    psum = 0\n",
    "    for m, p in s2noprince_moves[s]:\n",
    "        psum += p\n",
    "    if abs(psum - 1) > 1e-5:\n",
    "        print(s, s2noprince_moves[s])\n"
   ]
  },
  {
   "cell_type": "code",
   "execution_count": 74,
   "metadata": {
    "colab": {
     "base_uri": "https://localhost:8080/"
    },
    "executionInfo": {
     "elapsed": 33096,
     "status": "ok",
     "timestamp": 1634026277306,
     "user": {
      "displayName": "Tetsuro Tanaka",
      "photoUrl": "https://lh3.googleusercontent.com/a/default-user=s64",
      "userId": "10975618971026381564"
     },
     "user_tz": -540
    },
    "id": "DXbg3oZITDvF",
    "outputId": "bb5249a2-19af-40d1-cf80-55c91d2c3764"
   },
   "outputs": [
    {
     "name": "stdout",
     "output_type": "stream",
     "text": [
      "0.43969588707734647\n"
     ]
    }
   ],
   "source": [
    "ps2val = {}\n",
    "against_noprince = state_p2_value(init_state, 0, (s2moves, s2noprince_moves), ps2val)\n",
    "print(against_noprince)"
   ]
  },
  {
   "cell_type": "code",
   "execution_count": 61,
   "metadata": {
    "colab": {
     "base_uri": "https://localhost:8080/"
    },
    "executionInfo": {
     "elapsed": 68749,
     "status": "ok",
     "timestamp": 1634025523852,
     "user": {
      "displayName": "Tetsuro Tanaka",
      "photoUrl": "https://lh3.googleusercontent.com/a/default-user=s64",
      "userId": "10975618971026381564"
     },
     "user_tz": -540
    },
    "id": "Xn3jACfgfOUY",
    "outputId": "329a053c-a188-4c74-b664-e70c397286f3"
   },
   "outputs": [
    {
     "name": "stdout",
     "output_type": "stream",
     "text": [
      "0.27960940445277527\n",
      "0.27960940445277527\n"
     ]
    }
   ],
   "source": [
    "ps2val1 = {}\n",
    "against_random = state_p2_value(init_state, 0, (s2moves, s2random_moves), ps2val1)\n",
    "print(against_random)\n",
    "ps2val2 = {}\n",
    "against_noprince = state_p2_value(init_state, 0, (s2moves, s2noprince_moves), ps2val2)\n",
    "print(against_noprince)\n",
    "i = 0\n",
    "for s in ps2val1:\n",
    "    if s in ps2val2 and abs(ps2val1[s] - ps2val2[s]) > 1e-5:\n",
    "        print(s)\n",
    "        i += 1\n",
    "        if i > 100:\n",
    "            break"
   ]
  },
  {
   "cell_type": "code",
   "execution_count": 60,
   "metadata": {
    "colab": {
     "base_uri": "https://localhost:8080/"
    },
    "executionInfo": {
     "elapsed": 223,
     "status": "ok",
     "timestamp": 1634025439705,
     "user": {
      "displayName": "Tetsuro Tanaka",
      "photoUrl": "https://lh3.googleusercontent.com/a/default-user=s64",
      "userId": "10975618971026381564"
     },
     "user_tz": -540
    },
    "id": "cRnvTr0ogVQT",
    "outputId": "2769edef-c975-4e6a-d890-54cb42fa09f7"
   },
   "outputs": [
    {
     "name": "stdout",
     "output_type": "stream",
     "text": [
      "884253\n",
      "868641\n"
     ]
    }
   ],
   "source": [
    "print(len(ps2val1))\n",
    "print(len(ps2val2))\n"
   ]
  },
  {
   "cell_type": "code",
   "execution_count": 59,
   "metadata": {
    "colab": {
     "base_uri": "https://localhost:8080/"
    },
    "executionInfo": {
     "elapsed": 223,
     "status": "ok",
     "timestamp": 1634025366965,
     "user": {
      "displayName": "Tetsuro Tanaka",
      "photoUrl": "https://lh3.googleusercontent.com/a/default-user=s64",
      "userId": "10975618971026381564"
     },
     "user_tz": -540
    },
    "id": "6SgKNiqwgAiL",
    "outputId": "dd69dc70-9f85-47ec-e6af-8ed957bef1e3"
   },
   "outputs": [
    {
     "data": {
      "text/plain": [
       "(([1, 4, 5, 6, 7], [2, 3, 4, 5, 6]), (2, 1), (1, 1), 0, 0, -1)"
      ]
     },
     "execution_count": 59,
     "metadata": {},
     "output_type": "execute_result"
    }
   ],
   "source": [
    "state2moves(((242, 124), (2, 1), (1, 1), 0, 0, -1))"
   ]
  },
  {
   "cell_type": "markdown",
   "metadata": {
    "id": "_VsdW6H0LpkX"
   },
   "source": [
    "# 残り枚数ごとの勝ち確定"
   ]
  },
  {
   "cell_type": "markdown",
   "metadata": {
    "id": "1wsLlVOnndRn"
   },
   "source": [
    "## 残り枚数2の最善手の確認\n",
    "残り枚数が2で，valが0でも1でもない例を10個表示"
   ]
  },
  {
   "cell_type": "code",
   "execution_count": null,
   "metadata": {
    "id": "35wP-lOdndRn"
   },
   "outputs": [],
   "source": [
    "EPS = 1e-3\n",
    "k = 0\n",
    "for s in s2val:\n",
    "    ((mask1, mask2), (score1, score2), (wscore1, wscore2), dspy, dgeneral, prevcard) = s\n",
    "    i = len(mask2moves(mask1))   \n",
    "    if i == 2 and abs(-1 - s2val[s]) > EPS and  abs(1 - s2val[s]) > EPS and(s2val[s]) > EPS:\n",
    "        print(s2val[s], s2moves[s], ((mask2moves(mask1), mask2moves(mask2)), (score1, score2), (wscore1, wscore2), dspy, dgeneral, prevcard))\n",
    "        k += 1\n",
    "        if k > 10:\n",
    "            break"
   ]
  },
  {
   "cell_type": "markdown",
   "metadata": {
    "id": "SmWGlL2IndRn"
   },
   "source": [
    "(([2, 5], [2, 3]), (3, 3), (1, 1), 0, -2, -1)\n",
    "を掘り下げる． 両方とも3点なので，あと1点で勝ち．　相手は次の勝負は将軍補正がかかっている．\n",
    "\n",
    "密偵(2)　：おそらく一番使い方が難しいカード。\n",
    "　　　　　 出した次の勝負は相手のカードを見てから\n",
    "　　　　　 何を出すか決められます。\n",
    "暗殺者(3)：このカードより弱いカードに負けて\n",
    "　　　　　 強いカードに勝つ特殊なカード。\n",
    "　　　　　 暗殺者で相手の将軍等の強いカードに勝てたら気持ちいいですよ！\n",
    "魔術師(5)：担当的には一番使いやすいカード。\n",
    "　　　　　 相手の効果を無視して単純な数値のくらべ合いにもちこめます。\n",
    "　　　　　 道化に勝てる唯一のカードです。\n",
    "\n",
    "\n",
    "* 自分が魔術師(5)を出して，相手は暗殺者(3)\n",
    " - 相手の暗殺者の効果はキャンセルされる．\n",
    " - 将軍補正はキャンセルされない(説明書の将軍の説明で「ただし，次のカードが魔術師と勝負する場合は，この効果は有効です」とある)\n",
    " - 点数5, 5 で引き分け，次も密偵，密偵で引き分けなので，0\n",
    "* 自分が魔術師(5)を出して，相手は密偵(2)\n",
    " - 点数5,4で先手勝ち\n",
    "* 自分が密偵(2)を出して，相手は暗殺者(3)\n",
    " - 点数 2,5 だが， 暗殺者によって強さが逆転するので先手勝ち\n",
    "* 自分が密偵(2)を出して，相手は密偵(2)\n",
    " - 点数 2, 4 で相手の勝ち\n",
    "\n",
    "自分が魔術師を2/3, 密偵を1/3で出すとする．\n",
    "- 相手が暗殺者を出すと 2/3の確率で引き分け，1/3の確率で先手勝ち (利得の期待値 1/3)\n",
    "- 相手が密偵を出すと 2/3の確率で先手勝ち， 1/3の確率で後手勝ち (利得の期待値 1/3)\n",
    " \n",
    " "
   ]
  },
  {
   "cell_type": "code",
   "execution_count": null,
   "metadata": {
    "id": "oU5LibHJndRo"
   },
   "outputs": [],
   "source": [
    "state2 = (((1<<2)+(1<<5),(1<<2)+(1<<3)), (3, 3), (1, 1), 0, -2, -1)\n",
    "state1 =next_state(state2, 5, 3)\n",
    "print(state1)\n",
    "print(s2val[state1])"
   ]
  },
  {
   "cell_type": "markdown",
   "metadata": {
    "id": "pT0F7liQndRq"
   },
   "source": [
    "## 残り枚数2で勝負が決まっている例．\n",
    "残り枚数が2で，valが1\n"
   ]
  },
  {
   "cell_type": "code",
   "execution_count": null,
   "metadata": {
    "id": "xZaNLJQHndRq"
   },
   "outputs": [],
   "source": [
    "EPS = 1e-3\n",
    "k = 0\n",
    "for s in s2val:\n",
    "    ((mask1, mask2), (score1, score2), (wscore1, wscore2), dspy, dgeneral, prevcard) = s\n",
    "    i = len(mask2moves(mask1))   \n",
    "    if i == 2 and abs(1 - s2val[s]) <= EPS:\n",
    "        print(s2val[s], s2moves[s], ((mask2moves(mask1), mask2moves(mask2)), (score1, score2), (wscore1, wscore2), dspy, dgeneral, prevcard))\n",
    "        k += 1\n",
    "        if k > 10:\n",
    "            break"
   ]
  },
  {
   "cell_type": "markdown",
   "metadata": {
    "id": "7JQgE9gtndRq"
   },
   "source": [
    "まずは，正解が一つの例\n",
    "(([6, 7], [4, 7]), (3, 3), (1, 1), 0, 0, -1)\n",
    "両方が3点, 次に勝った方が勝ち(4点以上取る手は意味がないとして，正規化しているので (1,1)となる)\n",
    "[将軍，王子] vs [大臣，王子]\n",
    "* 自分が王子，相手が王子\n",
    " - 引き分けで，次に将軍が大臣に勝って勝ち\n",
    "* 自分が王子，相手が大臣\n",
    " - このターンで勝ち\n",
    "* 自分が将軍相手が王子\n",
    "- このターンで負け\n",
    "* 自分が将軍，相手が大臣\n",
    " - このターンで勝ち\n",
    " \n",
    " 自分が王子を出すと確実に勝てるが，大臣を出すと相手が王子を出したら負ける\n",
    " \n",
    "どちらでも正解の例\n",
    "(([6, 7], [4, 6]), (3, 3), (1, 1), 0, 0, -1)\n",
    "[将軍，王子] vs [大臣，将軍]\n",
    "- 自分が王子を出すとそのターンで勝ち\n",
    "- 自分が将軍を出すと，相手が大臣ならそのターンで勝ち，相手が将軍だとそのターンは引き分け次のターンで王子，大臣で勝ち\n",
    "\n",
    "\n",
    "\n"
   ]
  },
  {
   "cell_type": "markdown",
   "metadata": {
    "id": "sw4EFFGdljw-"
   },
   "source": [
    "# 現在の得点と必勝，必敗\n"
   ]
  },
  {
   "cell_type": "code",
   "execution_count": 78,
   "metadata": {
    "colab": {
     "base_uri": "https://localhost:8080/"
    },
    "executionInfo": {
     "elapsed": 1101,
     "status": "ok",
     "timestamp": 1634027356857,
     "user": {
      "displayName": "Tetsuro Tanaka",
      "photoUrl": "https://lh3.googleusercontent.com/a/default-user=s64",
      "userId": "10975618971026381564"
     },
     "user_tz": -540
    },
    "id": "fiVhZjxklry4",
    "outputId": "cbe7d46e-5e2d-4830-ff12-cf54a7a9371b"
   },
   "outputs": [
    {
     "name": "stdout",
     "output_type": "stream",
     "text": [
      "0 &(580, 2191, 580) &(2371, 5830, 1346) &(2939, 9582, 2199) &(2500, 11147, 4843) &\\\\\n",
      "1 &(1346, 5830, 2371) &(3234, 10284, 3234) &(3277, 14135, 4333) &(2643, 13545, 8720) &\\\\\n",
      "2 &(2199, 9582, 2939) &(4333, 14135, 3277) &(3994, 14165, 3994) &(3149, 10342, 6597) &\\\\\n",
      "3 &(4843, 11147, 2500) &(8720, 13545, 2643) &(6597, 10342, 3149) &(2499, 4426, 2499) &\\\\\n"
     ]
    }
   ],
   "source": [
    "wl = [[[0] * 3 for _ in range(4)] for _ in range(4)]\n",
    "for s in s2val:\n",
    "    ((mask1, mask2), (score1, score2), (wscore1, wscore2), dspy, dgeneral, prevcard) = s\n",
    "    if dspy != 0:\n",
    "        continue\n",
    "    v = s2val[s]\n",
    "    if abs(v - 1) < 1e-5:\n",
    "        wl[score1][score2][0] += 1\n",
    "    elif abs(v + 1) < 1e-5:\n",
    "        wl[score1][score2][2] += 1\n",
    "    else:\n",
    "        wl[score1][score2][1] += 1\n",
    "for i in range(4):\n",
    "    print(i, '&', end='')\n",
    "    for j in range(4):\n",
    "        print(tuple(wl[i][j]), '&', end='')\n",
    "    print('\\\\\\\\')\n"
   ]
  },
  {
   "cell_type": "code",
   "execution_count": 81,
   "metadata": {
    "colab": {
     "base_uri": "https://localhost:8080/"
    },
    "executionInfo": {
     "elapsed": 946,
     "status": "ok",
     "timestamp": 1634027923644,
     "user": {
      "displayName": "Tetsuro Tanaka",
      "photoUrl": "https://lh3.googleusercontent.com/a/default-user=s64",
      "userId": "10975618971026381564"
     },
     "user_tz": -540
    },
    "id": "iewcnxgQp0ph",
    "outputId": "8ffa406e-885b-4a82-ad14-1246b4baec7f"
   },
   "outputs": [
    {
     "name": "stdout",
     "output_type": "stream",
     "text": [
      "0 &(1273, 237, 305) &(4368, 697, 1083) &(5920, 2314, 1792) &(5591, 5077, 3443) &\\\\\n",
      "1 &(4188, 556, 1342) &(8186, 1917, 2298) &(8942, 6455, 3139) &(9539, 10515, 7323) &\\\\\n",
      "2 &(7245, 1303, 1793) &(12674, 4217, 2139) &(15130, 8765, 3371) &(13122, 7437, 7500) &\\\\\n",
      "3 &(10761, 2053, 1502) &(20450, 4307, 1947) &(20515, 4598, 2892) &(10705, 1767, 3734) &\\\\\n"
     ]
    }
   ],
   "source": [
    "wl = [[[0] * 3 for _ in range(4)] for _ in range(4)]\n",
    "for s in s2val:\n",
    "    ((mask1, mask2), (score1, score2), (wscore1, wscore2), dspy, dgeneral, prevcard) = s\n",
    "    if dspy == 0:\n",
    "        continue\n",
    "    v = s2val[s]\n",
    "    if abs(v - 1) < 1e-5:\n",
    "        wl[score1][score2][0] += 1\n",
    "    elif abs(v + 1) < 1e-5:\n",
    "        wl[score1][score2][2] += 1\n",
    "    else:\n",
    "        wl[score1][score2][1] += 1\n",
    "for i in range(4):\n",
    "    print(i, '&', end='')\n",
    "    for j in range(4):\n",
    "        print(tuple(wl[i][j]), '&', end='')\n",
    "    print('\\\\\\\\')"
   ]
  },
  {
   "cell_type": "code",
   "execution_count": 80,
   "metadata": {
    "colab": {
     "base_uri": "https://localhost:8080/"
    },
    "executionInfo": {
     "elapsed": 612,
     "status": "ok",
     "timestamp": 1634027790894,
     "user": {
      "displayName": "Tetsuro Tanaka",
      "photoUrl": "https://lh3.googleusercontent.com/a/default-user=s64",
      "userId": "10975618971026381564"
     },
     "user_tz": -540
    },
    "id": "hamodLfupG0T",
    "outputId": "092f3460-2430-40e6-ec8e-f7eca9658bbe"
   },
   "outputs": [
    {
     "name": "stdout",
     "output_type": "stream",
     "text": [
      "[(([2], [3]), (0, 3), (4, 1), 0, 0, -1), (([2, 7], [3, 7]), (0, 3), (4, 1), 0, 0, -1), (([2, 5], [3, 5]), (0, 3), (4, 1), 0, 0, -1), (([2, 5, 7], [3, 5, 7]), (0, 3), (4, 1), 0, 0, -1), (([5], [2]), (0, 3), (4, 1), 0, 0, -1), (([5, 7], [2, 7]), (0, 3), (4, 1), 0, 0, -1), (([5, 6], [2, 6]), (0, 3), (4, 1), 0, 0, -1), (([5, 6, 7], [2, 6, 7]), (0, 3), (4, 1), 0, 0, -1), (([4, 5], [2, 4]), (0, 3), (4, 1), 0, 0, -1), (([4, 5, 6], [2, 4, 6]), (0, 3), (3, 1), 0, 0, -1)]\n"
     ]
    }
   ],
   "source": [
    "ans = []\n",
    "for s in s2val:\n",
    "    ((mask1, mask2), (score1, score2), (wscore1, wscore2), dspy, dgeneral, prevcard) = s\n",
    "    if dspy != 0:\n",
    "        continue\n",
    "    if score1 == 0 and score2 == 3 and abs(s2val[s] - 1) < 1e-5:\n",
    "        ans.append(s)\n",
    "print([state2moves(x) for x in ans[:10]])"
   ]
  },
  {
   "cell_type": "markdown",
   "metadata": {
    "id": "dSbNQ098ndRq"
   },
   "source": [
    "## 大逆転パターン\n",
    "(0,  3) の不利だが，残り札の関係で確実に勝てる例\n",
    "残り枚数が多いごとにprint\n",
    "ただし，前のターンで密偵を出して，自分に姫(1)が残っているのに相手が王子(7)を出すというパターンは除く．\n"
   ]
  },
  {
   "cell_type": "code",
   "execution_count": 82,
   "metadata": {
    "colab": {
     "base_uri": "https://localhost:8080/"
    },
    "executionInfo": {
     "elapsed": 586,
     "status": "ok",
     "timestamp": 1634028449091,
     "user": {
      "displayName": "Tetsuro Tanaka",
      "photoUrl": "https://lh3.googleusercontent.com/a/default-user=s64",
      "userId": "10975618971026381564"
     },
     "user_tz": -540
    },
    "id": "lSQNj0vrndRr",
    "outputId": "1ce2d7a3-576d-407b-9739-762afbef7c26"
   },
   "outputs": [
    {
     "name": "stdout",
     "output_type": "stream",
     "text": [
      "1.0 (([2], [3]), (0, 3), (4, 1), 0, 0, -1)\n",
      "1.0 (([2, 7], [3, 7]), (0, 3), (4, 1), 0, 0, -1)\n",
      "1.0 (([2, 5, 7], [3, 5, 7]), (0, 3), (4, 1), 0, 0, -1)\n",
      "1 (([3, 4, 5, 7], [2, 3, 5, 6]), (0, 3), (2, 1), 1, 0, 2)\n",
      "1.0 (([3, 4, 5, 6, 7], [1, 2, 3, 4, 6]), (0, 3), (1, 1), 1, 0, 3)\n"
     ]
    }
   ],
   "source": [
    "EPS = 1e-3\n",
    "k = 0\n",
    "for s in s2val:\n",
    "    ((mask1, mask2), (score1, score2), (wscore1, wscore2), dspy, dgeneral, prevcard) = s\n",
    "    if score1 == 0 and score2 == 3 and abs(1 - s2val[s]) < EPS:\n",
    "        move1 = mask2moves(mask1)\n",
    "        if len(move1) > k and prevcard != 7:\n",
    "            print(s2val[s], ((mask2moves(mask1), mask2moves(mask2)), (score1, score2), (wscore1, wscore2), dspy, dgeneral, prevcard))\n",
    "            k = len(move1)\n"
   ]
  },
  {
   "cell_type": "markdown",
   "metadata": {
    "id": "jH_e50owndRr"
   },
   "source": [
    "1.0 (([3, 4, 5, 6, 7], [1, 2, 3, 4, 6]), (0, 3), (1, 1), 1, 0, 3)\n",
    "というパターンが見つかる．\n",
    "相手の暗殺者(3)に対して王子(7)を出す．これは勝ちで次の状態は\n",
    "(([3,4,5,6], [1,2,4,6]),(1,3),(1,1),0,0,-1)\n",
    "\n"
   ]
  },
  {
   "cell_type": "code",
   "execution_count": null,
   "metadata": {
    "id": "QAkcnIqdndRr"
   },
   "outputs": [],
   "source": [
    "s = ((moves2mask([3, 4, 5, 6, 7]), moves2mask([1, 2, 3, 4, 6])), (0, 3), (1, 1), 1, 0, 3)\n",
    "print('s2moves', s2moves[s])"
   ]
  },
  {
   "cell_type": "code",
   "execution_count": null,
   "metadata": {
    "id": "1i-GKKlundRr"
   },
   "outputs": [],
   "source": [
    "s = ((moves2mask([3, 4, 5, 6, 7]), moves2mask([1, 2, 3, 4, 6])), (0, 3), (1, 1), 1, 0, 3)\n",
    "s2 = half_move(s, 7)\n",
    "print('s2val', s2val[s2], 's2moves', s2moves[s2])"
   ]
  },
  {
   "cell_type": "code",
   "execution_count": null,
   "metadata": {
    "collapsed": true,
    "id": "zeg_QvbQndRs"
   },
   "outputs": [],
   "source": [
    "(([3,4,5,6], [1,2,4,6]),(1,3),(1,1),0,0,-1)\n",
    "で，将軍(6)を出す．\n",
    "- 相手が将軍(6)\n",
    " - 引き分けで，次は(([3,4,5], [1,2,4]),(1,3),(2,2),0,0,-1)\n",
    "- 相手が大臣(4)\n",
    " - 勝って，次は (([3,4,5], [1,2,6]),(1,2),0,-2,-1)\n",
    "- 相手が密偵(2)\n",
    " - 勝って，次は(([3,4,5],[1,4,6],(1,1),-1,0,-1))\n",
    "- 相手が姫(1)\n",
    " - 勝って次は(([3,4,5],[2,4,6],(1,1),0,0,-1))\n",
    "    \n"
   ]
  },
  {
   "cell_type": "code",
   "execution_count": null,
   "metadata": {
    "id": "aKWzB73sndRs"
   },
   "outputs": [],
   "source": [
    "s = ((moves2mask([3,4,5,6]), moves2mask([1,2,4,6])),(1,3),(1,1),0,0,-1)\n",
    "for m2 in mask2moves(s[0][1]):\n",
    "    ns = next_state(s, 6, m2)\n",
    "    print('m', m2, 's2moves[ns]', s2moves[ns], 's2val[ns]', s2val[ns], 'ns', ns)\n",
    "    "
   ]
  },
  {
   "cell_type": "code",
   "execution_count": null,
   "metadata": {
    "collapsed": true,
    "id": "ftQs8zLzndRs"
   },
   "outputs": [],
   "source": [
    "ターンの最初のパターンのみを探す．\n"
   ]
  },
  {
   "cell_type": "code",
   "execution_count": 83,
   "metadata": {
    "colab": {
     "base_uri": "https://localhost:8080/"
    },
    "executionInfo": {
     "elapsed": 690,
     "status": "ok",
     "timestamp": 1634028484963,
     "user": {
      "displayName": "Tetsuro Tanaka",
      "photoUrl": "https://lh3.googleusercontent.com/a/default-user=s64",
      "userId": "10975618971026381564"
     },
     "user_tz": -540
    },
    "id": "j5ElTiJzndRs",
    "outputId": "d7c4158d-2368-4fb9-806f-bf44041d708c"
   },
   "outputs": [
    {
     "name": "stdout",
     "output_type": "stream",
     "text": [
      "1.0 (([2], [3]), (0, 3), (4, 1), 0, 0, -1)\n",
      "1.0 (([2, 7], [3, 7]), (0, 3), (4, 1), 0, 0, -1)\n",
      "1.0 (([2, 5, 7], [3, 5, 7]), (0, 3), (4, 1), 0, 0, -1)\n",
      "1.0 (([2, 3, 5, 7], [1, 2, 3, 4]), (0, 3), (3, 1), 0, -2, -1)\n"
     ]
    }
   ],
   "source": [
    "EPS = 1e-3\n",
    "k = 0\n",
    "for s in s2val:\n",
    "    ((mask1, mask2), (score1, score2), (wscore1, wscore2), dspy, dgeneral, prevcard) = s\n",
    "    if score1 == 0 and score2 == 3 and abs(1 - s2val[s]) < EPS:\n",
    "        move1 = mask2moves(mask1)\n",
    "        if len(move1) > k and prevcard == -1:\n",
    "            print(s2val[s], ((mask2moves(mask1), mask2moves(mask2)), (score1, score2), (wscore1, wscore2), dspy, dgeneral, prevcard))\n",
    "            k = len(move1)\n"
   ]
  },
  {
   "cell_type": "code",
   "execution_count": 91,
   "metadata": {
    "colab": {
     "base_uri": "https://localhost:8080/"
    },
    "executionInfo": {
     "elapsed": 566,
     "status": "ok",
     "timestamp": 1634029195986,
     "user": {
      "displayName": "Tetsuro Tanaka",
      "photoUrl": "https://lh3.googleusercontent.com/a/default-user=s64",
      "userId": "10975618971026381564"
     },
     "user_tz": -540
    },
    "id": "Cf1LiY-HssCs",
    "outputId": "b1aaa1d6-ba11-4a1b-de09-9df8f6fb583f"
   },
   "outputs": [
    {
     "name": "stdout",
     "output_type": "stream",
     "text": [
      "284\n"
     ]
    }
   ],
   "source": [
    "EPS = 1e-3\n",
    "ans = []\n",
    "for s in s2val:\n",
    "    ((mask1, mask2), (score1, score2), (wscore1, wscore2), dspy, dgeneral, prevcard) = s\n",
    "    if (score1 + wscore1) == 1 and score2 == 3 and abs(1 - s2val[s]) < EPS and (prevcard != 7 or (mask1 & (1 << 1)) == 0):\n",
    "        move1 = mask2moves(mask1)\n",
    "        ans.append(s)\n",
    "print(len(ans))"
   ]
  },
  {
   "cell_type": "code",
   "execution_count": 93,
   "metadata": {
    "colab": {
     "base_uri": "https://localhost:8080/"
    },
    "executionInfo": {
     "elapsed": 291,
     "status": "ok",
     "timestamp": 1634029228518,
     "user": {
      "displayName": "Tetsuro Tanaka",
      "photoUrl": "https://lh3.googleusercontent.com/a/default-user=s64",
      "userId": "10975618971026381564"
     },
     "user_tz": -540
    },
    "id": "hkONAKyhuv6z",
    "outputId": "82735337-f6a5-49e2-904a-b595c325afdd"
   },
   "outputs": [
    {
     "name": "stdout",
     "output_type": "stream",
     "text": [
      "[(([3, 4, 5, 6, 7], [1, 2, 3, 4, 6]), (0, 3), (1, 1), 1, 0, 3), (([3, 4, 5, 6, 7], [1, 2, 3, 4, 5]), (0, 3), (1, 1), 1, 0, 1), (([3, 4, 5, 6, 7], [1, 2, 3, 4, 5]), (0, 3), (1, 1), 1, 0, 3), (([1, 4, 5, 6, 7], [1, 2, 4, 5, 6]), (0, 3), (1, 1), 1, 0, 1), (([1, 4, 5, 6, 7], [1, 2, 3, 4, 5]), (0, 3), (1, 1), 1, -2, 1), (([1, 4, 5, 6, 7], [1, 2, 3, 4, 5]), (0, 3), (1, 1), 1, -2, 3), (([1, 3, 4, 5, 7], [1, 2, 3, 4, 5]), (0, 3), (1, 1), 1, 0, 1), (([1, 3, 4, 5, 7], [1, 2, 3, 4, 5]), (0, 3), (1, 1), 1, -2, 1), (([1, 3, 4, 5, 6], [1, 2, 3, 4, 5]), (0, 3), (1, 1), 1, -2, 3), (([3, 4, 5, 6, 7], [0, 2, 3, 4, 6]), (0, 3), (1, 1), 1, 0, 3)]\n"
     ]
    }
   ],
   "source": [
    "print(list(state2moves(x) for x in ans[:10]))"
   ]
  },
  {
   "cell_type": "code",
   "execution_count": 101,
   "metadata": {
    "colab": {
     "base_uri": "https://localhost:8080/"
    },
    "executionInfo": {
     "elapsed": 252,
     "status": "ok",
     "timestamp": 1634029935609,
     "user": {
      "displayName": "Tetsuro Tanaka",
      "photoUrl": "https://lh3.googleusercontent.com/a/default-user=s64",
      "userId": "10975618971026381564"
     },
     "user_tz": -540
    },
    "id": "0krAT0xPvdGS",
    "outputId": "bcdccee1-8473-4ec4-9d9e-126e77433cf5"
   },
   "outputs": [
    {
     "name": "stdout",
     "output_type": "stream",
     "text": [
      "[(3, 0), (4, 0), (5, 0), (6, 0), (7, 1)]\n",
      "((120, 86), (1, 3), (1, 1), 0, 0, -1) [(3, 0.0), (4, 0.0), (5, 0.0), (6, 1.0)]\n",
      "((56, 22), (1, 3), (2, 1), 0, 0, -1) 1.0 [(3, 0.0), (4, 1.0), (5, 0.0)]\n"
     ]
    }
   ],
   "source": [
    "state = state2masks((([3, 4, 5, 6, 7], [1, 2, 3, 4, 6]), (0, 3), (1, 1), 1, 0, 3))\n",
    "print(s2moves[state])\n",
    "state1 = state2masks((([3, 4, 5, 6], [1, 2, 4, 6]), (1, 3), (1, 1), 0, 0, -1))\n",
    "print(state1, s2moves[state1])\n",
    "state2 = state2masks((([3, 4, 5], [1, 2, 4]), (1, 3), (2, 1), 0, 0, -1))\n",
    "print(state2, s2val[state2], s2moves[state2])"
   ]
  },
  {
   "cell_type": "code",
   "execution_count": 86,
   "metadata": {
    "colab": {
     "base_uri": "https://localhost:8080/"
    },
    "executionInfo": {
     "elapsed": 707,
     "status": "ok",
     "timestamp": 1634028610506,
     "user": {
      "displayName": "Tetsuro Tanaka",
      "photoUrl": "https://lh3.googleusercontent.com/a/default-user=s64",
      "userId": "10975618971026381564"
     },
     "user_tz": -540
    },
    "id": "OVOi0SAysNNw",
    "outputId": "01538c0e-9020-400b-8b4d-21afca378138"
   },
   "outputs": [
    {
     "name": "stdout",
     "output_type": "stream",
     "text": [
      "1.0 (([3, 4, 5, 6], [1, 2, 4, 6]), (1, 3), (1, 1), 0, 0, -1)\n",
      "1.0 (([4, 5, 6, 7], [1, 2, 4, 5]), (1, 3), (1, 1), 0, 0, -1)\n",
      "1.0 (([4, 5, 6, 7], [1, 2, 4, 5]), (0, 3), (2, 1), 0, 0, -1)\n",
      "1.0 (([3, 4, 5, 6], [1, 2, 4, 5]), (1, 3), (1, 1), 0, 0, -1)\n",
      "1.0 (([2, 4, 5, 6], [1, 2, 4, 5]), (1, 3), (1, 1), 0, 0, -1)\n",
      "1.0 (([2, 4, 5, 6], [1, 2, 4, 5]), (0, 3), (2, 1), 0, 0, -1)\n",
      "1.0 (([1, 4, 5, 6], [1, 2, 4, 5]), (1, 3), (1, 1), 0, 0, -1)\n",
      "1.0 (([1, 4, 5, 6], [1, 2, 4, 5]), (0, 3), (2, 1), 0, 0, -1)\n",
      "1.0 (([0, 5, 6, 7], [2, 4, 5, 6]), (1, 3), (1, 1), 0, 0, -1)\n",
      "1.0 (([0, 4, 5, 7], [2, 4, 5, 6]), (1, 3), (1, 1), 0, 2, -1)\n",
      "1.0 (([4, 5, 6, 7], [0, 2, 4, 6]), (1, 3), (1, 1), 0, 0, -1)\n",
      "1.0 (([3, 5, 6, 7], [0, 2, 4, 6]), (1, 3), (1, 1), 0, 0, -1)\n",
      "1.0 (([4, 5, 6, 7], [0, 2, 4, 6]), (0, 3), (2, 1), 0, 0, -1)\n",
      "1.0 (([2, 5, 6, 7], [0, 2, 4, 6]), (0, 3), (2, 1), 0, 0, -1)\n",
      "1.0 (([4, 5, 6, 7], [0, 2, 4, 5]), (1, 3), (1, 1), 0, 0, -1)\n",
      "1.0 (([3, 5, 6, 7], [0, 2, 4, 5]), (1, 3), (1, 1), 0, 0, -1)\n",
      "1.0 (([4, 5, 6, 7], [0, 2, 4, 5]), (0, 3), (2, 1), 0, 0, -1)\n",
      "1.0 (([2, 5, 6, 7], [0, 2, 4, 5]), (1, 3), (1, 1), 0, 0, -1)\n",
      "1.0 (([2, 5, 6, 7], [0, 2, 4, 5]), (0, 3), (2, 1), 0, 0, -1)\n",
      "1.0 (([1, 5, 6, 7], [0, 2, 4, 6]), (0, 3), (2, 1), 0, 0, -1)\n",
      "1.0 (([1, 5, 6, 7], [0, 2, 4, 5]), (1, 3), (1, 1), 0, 0, -1)\n",
      "1.0 (([1, 5, 6, 7], [0, 2, 4, 5]), (0, 3), (2, 1), 0, 0, -1)\n",
      "1.0 (([3, 5, 6, 7], [0, 2, 4, 5]), (1, 3), (1, 1), 0, -2, -1)\n",
      "1.0 (([1, 5, 6, 7], [0, 2, 4, 5]), (1, 3), (1, 1), 0, -2, -1)\n",
      "1.0 (([3, 4, 5, 7], [0, 2, 3, 4]), (1, 3), (1, 1), 0, -2, -1)\n",
      "1.0 (([1, 3, 5, 7], [0, 2, 3, 4]), (1, 3), (1, 1), 0, -2, -1)\n",
      "1.0 (([3, 4, 5, 6], [1, 2, 4, 6]), (0, 3), (2, 1), 0, 0, -1)\n",
      "1.0 (([0, 4, 5, 6], [1, 2, 4, 6]), (0, 3), (2, 1), 0, 0, -1)\n",
      "1.0 (([0, 2, 5, 6], [1, 2, 4, 6]), (0, 3), (2, 1), 0, 0, -1)\n",
      "1.0 (([0, 4, 5, 6], [1, 2, 4, 6]), (1, 3), (1, 1), 0, 0, -1)\n",
      "1.0 (([0, 2, 5, 6], [1, 2, 4, 6]), (1, 3), (1, 1), 0, 0, -1)\n",
      "0.9999999999999983 (([0, 3, 5, 6], [1, 2, 4, 6]), (0, 3), (2, 1), 0, 0, -1)\n",
      "0.9999999999999983 (([0, 3, 5, 6], [1, 2, 4, 6]), (1, 3), (1, 1), 0, 0, -1)\n",
      "1.0 (([2, 5, 6, 7], [0, 2, 4, 6]), (1, 3), (1, 1), 0, 0, -1)\n",
      "1.0 (([1, 5, 6, 7], [0, 2, 4, 6]), (1, 3), (1, 1), 0, 0, -1)\n",
      "1.0 (([2, 5, 6, 7], [0, 2, 4, 5]), (1, 3), (1, 1), 0, -2, -1)\n",
      "1.0 (([4, 5, 6, 7], [0, 2, 4, 5]), (1, 3), (1, 1), 0, -2, -1)\n",
      "1.0 (([2, 3, 5, 7], [0, 2, 3, 4]), (1, 3), (1, 1), 0, -2, -1)\n",
      "1.0 (([0, 4, 5, 7], [2, 3, 4, 6]), (1, 3), (1, 1), 0, 2, -1)\n",
      "1.0 (([0, 3, 5, 7], [2, 3, 4, 6]), (1, 3), (1, 1), 0, 2, -1)\n",
      "1.0 (([0, 5, 6, 7], [1, 2, 4, 6]), (0, 3), (2, 1), 0, 0, -1)\n",
      "1.0 (([0, 3, 5, 6], [1, 2, 3, 4]), (1, 3), (1, 1), 0, -2, -1)\n",
      "1.0 (([0, 3, 4, 5], [1, 2, 3, 4]), (1, 3), (1, 1), 0, -2, -1)\n",
      "1.0 (([0, 5, 6, 7], [1, 2, 4, 6]), (1, 3), (1, 1), 0, 0, -1)\n",
      "1.0 (([0, 2, 5, 7], [2, 3, 4, 6]), (1, 3), (1, 1), 0, 2, -1)\n",
      "1.0 (([0, 2, 3, 5], [1, 2, 3, 4]), (1, 3), (1, 1), 0, -2, -1)\n",
      "1.0 (([0, 4, 5, 6], [1, 2, 4, 5]), (1, 3), (1, 1), 0, 0, -1)\n",
      "1.0 (([3, 4, 5, 6], [1, 2, 4, 5]), (0, 3), (2, 1), 0, 0, -1)\n",
      "1.0 (([0, 4, 5, 6], [1, 2, 4, 5]), (0, 3), (2, 1), 0, 0, -1)\n",
      "1.0 (([0, 3, 5, 7], [1, 2, 3, 4]), (1, 3), (1, 1), 0, -2, -1)\n",
      "1.0 (([0, 5, 6, 7], [2, 4, 5, 6]), (0, 3), (2, 1), 0, 0, -1)\n",
      "1.0 (([0, 1, 5, 6], [1, 2, 4, 6]), (0, 3), (2, 1), 0, 0, -1)\n",
      "1.0 (([0, 1, 5, 6], [1, 2, 4, 6]), (1, 3), (1, 1), 0, 0, -1)\n",
      "1.0 (([0, 1, 5, 7], [2, 3, 4, 6]), (1, 3), (1, 1), 0, 2, -1)\n",
      "1.0 (([0, 1, 3, 5], [1, 2, 3, 4]), (1, 3), (1, 1), 0, -2, -1)\n",
      "1.0 (([4, 5, 6, 7], [0, 1, 2, 4]), (1, 3), (1, 1), 0, -2, -1)\n",
      "1.0 (([3, 4, 5, 7], [0, 1, 2, 4]), (0, 3), (2, 1), 0, 0, -1)\n",
      "1.0 (([3, 4, 5, 6], [0, 1, 2, 4]), (1, 3), (1, 1), 0, -2, -1)\n",
      "1.0 (([2, 5, 6, 7], [0, 1, 2, 4]), (1, 3), (1, 1), 0, 0, -1)\n",
      "1.0 (([2, 4, 5, 7], [0, 1, 2, 4]), (1, 3), (1, 1), 0, 2, -1)\n",
      "1.0 (([2, 4, 5, 6], [0, 1, 2, 4]), (1, 3), (1, 1), 0, 0, -1)\n",
      "1.0 (([2, 4, 5, 7], [0, 1, 2, 4]), (0, 3), (2, 1), 0, 0, -1)\n",
      "1.0 (([2, 4, 5, 6], [0, 1, 2, 4]), (1, 3), (1, 1), 0, -2, -1)\n",
      "1.0000000000000002 (([2, 5, 6, 7], [0, 1, 2, 4]), (1, 3), (1, 1), 0, -2, -1)\n",
      "1.0 (([2, 3, 5, 6], [0, 1, 2, 4]), (1, 3), (1, 1), 0, -2, -1)\n",
      "1.0 (([2, 3, 4, 6], [0, 1, 2, 4]), (1, 3), (1, 1), 0, -2, -1)\n",
      "1.0 (([2, 3, 4, 5], [0, 1, 2, 4]), (1, 3), (1, 1), 0, -2, -1)\n",
      "1.0 (([2, 3, 5, 6], [0, 1, 2, 4]), (1, 3), (1, 1), 0, 0, -1)\n",
      "1.0 (([2, 3, 4, 5], [0, 1, 2, 4]), (1, 3), (1, 1), 0, 2, -1)\n",
      "1.0 (([3, 4, 5, 6], [0, 1, 2, 4]), (0, 3), (2, 1), 0, 0, -1)\n",
      "1.0 (([3, 4, 5, 7], [0, 1, 2, 4]), (1, 3), (1, 1), 0, 0, -1)\n",
      "1.0 (([3, 4, 5, 6], [0, 1, 2, 4]), (1, 3), (1, 1), 0, 0, -1)\n",
      "1.0 (([2, 4, 5, 6], [0, 1, 2, 4]), (0, 3), (2, 1), 0, 0, -1)\n",
      "1.0 (([2, 4, 5, 7], [0, 1, 2, 4]), (1, 3), (1, 1), 0, 0, -1)\n",
      "1.0 (([2, 3, 5, 6], [0, 1, 2, 4]), (0, 3), (2, 1), 0, 0, -1)\n",
      "1.0 (([2, 3, 4, 5], [0, 1, 2, 4]), (0, 3), (2, 1), 0, 0, -1)\n",
      "1.0 (([2, 3, 4, 5], [0, 1, 2, 4]), (1, 3), (1, 1), 0, 0, -1)\n",
      "1.0 (([1, 4, 5, 7], [0, 1, 2, 4]), (1, 3), (1, 1), 0, 2, -1)\n",
      "1.0 (([1, 4, 5, 6], [0, 1, 2, 4]), (1, 3), (1, 1), 0, 0, -1)\n",
      "1.0 (([1, 4, 5, 7], [0, 1, 2, 4]), (0, 3), (2, 1), 0, 0, -1)\n",
      "1.0 (([1, 4, 5, 6], [0, 1, 2, 4]), (1, 3), (1, 1), 0, -2, -1)\n",
      "1.0 (([3, 5, 6, 7], [0, 2, 4, 6]), (0, 3), (2, 1), 0, 0, -1)\n",
      "1.0 (([1, 3, 5, 6], [0, 1, 2, 4]), (1, 3), (1, 1), 0, -2, -1)\n",
      "1.0000000000000004 (([1, 3, 4, 6], [0, 1, 2, 4]), (1, 3), (1, 1), 0, -2, -1)\n",
      "1.0 (([1, 3, 4, 5], [0, 1, 2, 4]), (1, 3), (1, 1), 0, -2, -1)\n",
      "1.0 (([1, 3, 4, 5], [0, 1, 2, 4]), (1, 3), (1, 1), 0, 2, -1)\n",
      "1.0 (([1, 4, 5, 6], [0, 1, 2, 4]), (0, 3), (2, 1), 0, 0, -1)\n",
      "1.0 (([1, 3, 4, 5], [0, 1, 2, 4]), (0, 3), (2, 1), 0, 0, -1)\n",
      "1.0 (([1, 4, 5, 7], [0, 1, 2, 4]), (1, 3), (1, 1), 0, 0, -1)\n",
      "1.0 (([3, 5, 6, 7], [0, 2, 4, 5]), (0, 3), (2, 1), 0, 0, -1)\n",
      "1.0 (([1, 3, 4, 5], [0, 1, 2, 4]), (1, 3), (1, 1), 0, 0, -1)\n",
      "1.0 (([3, 4, 5, 7], [0, 1, 2, 4]), (1, 3), (1, 1), 0, -2, -1)\n",
      "1.0 (([4, 5, 6, 7], [0, 1, 2, 4]), (1, 3), (1, 1), 0, 0, -1)\n",
      "1.0 (([1, 2, 5, 6], [0, 1, 2, 4]), (1, 3), (1, 1), 0, -2, -1)\n",
      "1.0 (([1, 2, 5, 6], [0, 1, 2, 4]), (1, 3), (1, 1), 0, 0, -1)\n",
      "1.0 (([1, 2, 4, 5], [0, 1, 2, 4]), (1, 3), (1, 1), 0, 2, -1)\n",
      "1.0 (([1, 2, 5, 6], [0, 1, 2, 4]), (0, 3), (2, 1), 0, 0, -1)\n",
      "1.0 (([1, 2, 4, 5], [0, 1, 2, 4]), (1, 3), (1, 1), 0, 0, -1)\n",
      "1.0 (([1, 2, 4, 5], [0, 1, 2, 4]), (0, 3), (2, 1), 0, 0, -1)\n",
      "1.0 (([3, 4, 5, 7], [0, 1, 2, 4]), (1, 3), (1, 1), 0, 2, -1)\n",
      "1.0 (([3, 5, 6, 7], [0, 1, 2, 4]), (1, 3), (1, 1), 0, -2, -1)\n",
      "1.0 (([4, 5, 6, 7], [0, 1, 2, 4]), (0, 3), (2, 1), 0, 0, -1)\n",
      "1.0 (([2, 5, 6, 7], [0, 1, 2, 4]), (0, 3), (2, 1), 0, 0, -1)\n",
      "0.9999999999999996 (([3, 5, 6, 7], [0, 2, 3, 4]), (1, 3), (1, 1), 0, -2, -1)\n",
      "1.0 (([4, 5, 6, 7], [0, 1, 2, 3]), (1, 3), (1, 1), 0, -2, -1)\n",
      "1.0 (([3, 4, 5, 7], [0, 1, 2, 3]), (1, 3), (1, 1), 0, -2, -1)\n",
      "1.0 (([3, 4, 5, 6], [0, 1, 2, 3]), (1, 3), (1, 1), 0, -2, -1)\n",
      "1.0 (([1, 2, 5, 7], [0, 1, 2, 3]), (1, 3), (1, 1), 0, 2, -1)\n",
      "1.0 (([1, 2, 5, 6], [0, 1, 2, 3]), (1, 3), (1, 1), 0, 0, -1)\n",
      "1.0 (([1, 2, 5, 7], [0, 1, 2, 3]), (1, 3), (1, 1), 0, 0, -1)\n",
      "1.0 (([2, 4, 5, 7], [0, 1, 2, 3]), (1, 3), (1, 1), 0, -2, -1)\n",
      "1.0 (([2, 4, 5, 6], [0, 1, 2, 3]), (1, 3), (1, 1), 0, -2, -1)\n",
      "1.0 (([1, 2, 5, 7], [0, 1, 2, 3]), (0, 3), (2, 1), 0, 2, -1)\n",
      "1.0 (([1, 2, 3, 5], [0, 1, 2, 3]), (1, 3), (1, 1), 0, 2, -1)\n",
      "0.9999999999999999 (([2, 3, 5, 7], [0, 1, 2, 3]), (1, 3), (1, 1), 0, -2, -1)\n",
      "1.0 (([2, 3, 5, 6], [0, 1, 2, 3]), (1, 3), (1, 1), 0, -2, -1)\n",
      "1.0 (([1, 2, 4, 5], [0, 1, 2, 3]), (1, 3), (1, 1), 0, 0, -1)\n",
      "1.0 (([2, 3, 4, 5], [0, 1, 2, 3]), (1, 3), (1, 1), 0, -2, -1)\n",
      "1.0 (([1, 2, 3, 5], [0, 1, 2, 3]), (1, 3), (1, 1), 0, -2, -1)\n",
      "1.0 (([1, 2, 3, 5], [0, 1, 2, 3]), (0, 3), (2, 1), 0, 2, -1)\n",
      "1.0 (([1, 2, 4, 5], [0, 1, 2, 3]), (1, 3), (1, 1), 0, 2, -1)\n",
      "1.0 (([0, 5, 6, 7], [0, 2, 3, 4]), (1, 3), (1, 1), 0, 0, -1)\n",
      "1.0 (([0, 4, 5, 7], [0, 2, 3, 4]), (1, 3), (1, 1), 0, 2, -1)\n",
      "1.0 (([0, 4, 5, 7], [2, 3, 4, 6]), (0, 3), (2, 1), 0, 2, -1)\n",
      "1.0 (([0, 4, 5, 7], [0, 2, 3, 4]), (0, 3), (2, 1), 0, 0, -1)\n",
      "1.0 (([0, 4, 5, 6], [0, 2, 4, 6]), (1, 3), (1, 1), 0, 0, -1)\n",
      "1.0 (([0, 3, 5, 6], [0, 2, 4, 6]), (0, 3), (2, 1), 0, 0, -1)\n",
      "0.9999999999999996 (([3, 5, 6, 7], [0, 2, 3, 4]), (0, 3), (2, 1), 0, -2, -1)\n",
      "1.0 (([0, 5, 6, 7], [0, 2, 4, 6]), (0, 3), (2, 1), 0, 0, -1)\n",
      "1.0 (([0, 5, 6, 7], [0, 2, 3, 4]), (1, 3), (1, 1), 0, -2, -1)\n",
      "1.0 (([0, 3, 5, 7], [2, 3, 4, 6]), (0, 3), (2, 1), 0, 2, -1)\n",
      "1.0 (([0, 3, 5, 7], [0, 2, 3, 4]), (0, 3), (2, 1), 0, 0, -1)\n",
      "1.0 (([0, 3, 5, 6], [0, 2, 4, 6]), (1, 3), (1, 1), 0, 0, -1)\n",
      "1.0 (([0, 3, 5, 6], [0, 2, 3, 4]), (1, 3), (1, 1), 0, -2, -1)\n",
      "1.0 (([0, 3, 4, 7], [0, 2, 4, 6]), (1, 3), (1, 1), 0, 2, -1)\n",
      "1.0 (([3, 4, 5, 7], [0, 2, 3, 4]), (0, 3), (2, 1), 0, -2, -1)\n",
      "1.0 (([0, 4, 5, 7], [0, 2, 3, 4]), (1, 3), (1, 1), 0, -2, -1)\n",
      "1.0 (([0, 3, 4, 5], [0, 2, 3, 4]), (1, 3), (1, 1), 0, -2, -1)\n",
      "1.0 (([0, 5, 6, 7], [0, 2, 4, 5]), (1, 3), (1, 1), 0, 0, -1)\n",
      "1.0 (([0, 4, 5, 7], [0, 2, 3, 4]), (1, 3), (1, 1), 0, 0, -1)\n",
      "1.0 (([0, 5, 6, 7], [0, 2, 4, 5]), (0, 3), (2, 1), 0, 0, -1)\n",
      "1.0 (([0, 3, 5, 7], [0, 2, 3, 4]), (1, 3), (1, 1), 0, 0, -1)\n",
      "1.0 (([3, 5, 6, 7], [0, 2, 4, 5]), (0, 3), (2, 1), 0, -2, -1)\n",
      "1.0 (([0, 5, 6, 7], [0, 2, 4, 5]), (1, 3), (1, 1), 0, -2, -1)\n",
      "0.9999999999999999 (([0, 3, 5, 7], [0, 2, 3, 4]), (1, 3), (1, 1), 0, -2, -1)\n",
      "1.0 (([0, 4, 5, 6], [0, 2, 4, 6]), (0, 3), (2, 1), 0, 0, -1)\n",
      "1.0 (([0, 4, 5, 7], [2, 4, 5, 6]), (0, 3), (2, 1), 0, 2, -1)\n",
      "1.0 (([4, 5, 6, 7], [0, 2, 4, 5]), (0, 3), (2, 1), 0, -2, -1)\n",
      "1.0 (([0, 2, 5, 6], [0, 2, 4, 6]), (0, 3), (2, 1), 0, 0, -1)\n",
      "1.0 (([2, 5, 6, 7], [0, 2, 4, 5]), (0, 3), (2, 1), 0, -2, -1)\n",
      "1.0 (([0, 2, 5, 6], [0, 2, 4, 6]), (1, 3), (1, 1), 0, 0, -1)\n",
      "1.0 (([0, 5, 6, 7], [0, 2, 4, 6]), (1, 3), (1, 1), 0, 0, -1)\n",
      "1.0 (([0, 2, 5, 7], [2, 3, 4, 6]), (0, 3), (2, 1), 0, 2, -1)\n",
      "1.0 (([0, 2, 5, 7], [0, 2, 3, 4]), (0, 3), (2, 1), 0, 0, -1)\n",
      "1.0 (([0, 2, 5, 7], [0, 2, 3, 4]), (1, 3), (1, 1), 0, -2, -1)\n",
      "1.0 (([0, 2, 5, 7], [0, 2, 3, 4]), (1, 3), (1, 1), 0, 2, -1)\n",
      "1.0 (([2, 3, 5, 7], [0, 2, 3, 4]), (0, 3), (2, 1), 0, -2, -1)\n",
      "1.0 (([0, 2, 3, 5], [0, 2, 3, 4]), (1, 3), (1, 1), 0, -2, -1)\n",
      "1.0 (([0, 2, 5, 7], [0, 2, 3, 4]), (1, 3), (1, 1), 0, 0, -1)\n",
      "1.0 (([0, 5, 6, 7], [0, 1, 4, 6]), (1, 3), (1, 1), 0, 0, -1)\n",
      "1.0 (([0, 4, 5, 6], [0, 1, 4, 6]), (1, 3), (1, 1), 0, 0, -1)\n",
      "1.0 (([0, 3, 5, 6], [0, 1, 4, 6]), (1, 3), (1, 1), 0, 0, -1)\n",
      "1.0 (([0, 3, 5, 6], [0, 1, 4, 6]), (0, 3), (2, 1), 0, 0, -1)\n",
      "1.0 (([0, 5, 6, 7], [0, 1, 4, 6]), (0, 3), (2, 1), 0, 0, -1)\n",
      "1.0 (([0, 3, 5, 6], [0, 1, 3, 4]), (1, 3), (1, 1), 0, -2, -1)\n",
      "1.0 (([0, 3, 4, 5], [0, 1, 3, 4]), (1, 3), (1, 1), 0, -2, -1)\n",
      "1.0 (([0, 3, 5, 7], [0, 1, 3, 4]), (1, 3), (1, 1), 0, -2, -1)\n",
      "1.0 (([0, 4, 5, 6], [0, 1, 4, 6]), (0, 3), (2, 1), 0, 0, -1)\n",
      "1.0 (([0, 2, 5, 6], [0, 1, 4, 6]), (0, 3), (2, 1), 0, 0, -1)\n",
      "1.0 (([0, 2, 5, 6], [0, 1, 4, 6]), (1, 3), (1, 1), 0, 0, -1)\n",
      "1.0000000000000002 (([0, 1, 5, 6], [0, 2, 4, 6]), (1, 3), (1, 1), 0, 0, -1)\n",
      "1.0 (([0, 2, 3, 5], [0, 1, 3, 4]), (1, 3), (1, 1), 0, -2, -1)\n",
      "0.9999999999999999 (([0, 3, 5, 7], [0, 2, 3, 4]), (1, 3), (1, 1), 0, 2, -1)\n",
      "1.0 (([0, 1, 5, 7], [0, 2, 3, 4]), (1, 3), (1, 1), 0, 2, -1)\n",
      "1.0 (([0, 1, 5, 7], [0, 2, 3, 4]), (1, 3), (1, 1), 0, 0, -1)\n",
      "1.0 (([0, 1, 5, 7], [0, 2, 3, 4]), (1, 3), (1, 1), 0, -2, -1)\n",
      "1.0 (([0, 5, 6, 7], [0, 1, 2, 4]), (1, 3), (1, 1), 0, -2, -1)\n",
      "1.0 (([0, 5, 6, 7], [0, 1, 2, 4]), (1, 3), (1, 1), 0, 0, -1)\n",
      "1.0 (([0, 3, 5, 6], [0, 1, 2, 4]), (1, 3), (1, 1), 0, 0, -1)\n",
      "1 (([0, 5, 6, 7], [0, 1, 4, 6]), (1, 3), (1, 1), -1, 0, -1)\n",
      "1.0 (([0, 4, 5, 7], [0, 1, 2, 4]), (1, 3), (1, 1), 0, 0, -1)\n",
      "1 (([0, 4, 5, 6], [0, 1, 4, 6]), (1, 3), (1, 1), -1, 0, -1)\n",
      "1.0 (([0, 3, 5, 6], [0, 1, 2, 4]), (1, 3), (1, 1), 0, -2, -1)\n",
      "1.0 (([0, 4, 5, 7], [0, 1, 2, 4]), (1, 3), (1, 1), 0, 2, -1)\n",
      "1.0 (([0, 4, 5, 6], [0, 1, 2, 4]), (1, 3), (1, 1), 0, 0, -1)\n",
      "1.0 (([0, 3, 4, 5], [0, 1, 2, 4]), (1, 3), (1, 1), 0, 2, -1)\n",
      "1.0000000000000002 (([0, 1, 5, 6], [0, 2, 4, 6]), (0, 3), (2, 1), 0, 0, -1)\n",
      "1.0 (([1, 5, 6, 7], [0, 2, 4, 5]), (0, 3), (2, 1), 0, -2, -1)\n",
      "1.0 (([0, 2, 5, 7], [0, 1, 2, 4]), (1, 3), (1, 1), 0, 2, -1)\n",
      "1.0 (([0, 2, 5, 6], [0, 1, 2, 4]), (1, 3), (1, 1), 0, 0, -1)\n",
      "1.0 (([0, 2, 5, 6], [0, 1, 2, 4]), (1, 3), (1, 1), 0, -2, -1)\n",
      "1.0 (([0, 2, 4, 6], [0, 1, 2, 4]), (1, 3), (1, 1), 0, 0, -1)\n",
      "1 (([0, 2, 5, 6], [0, 1, 4, 6]), (1, 3), (1, 1), -1, 0, -1)\n",
      "1.0 (([0, 2, 3, 5], [0, 1, 2, 4]), (1, 3), (1, 1), 0, 2, -1)\n",
      "1.0 (([0, 1, 5, 7], [2, 3, 4, 6]), (0, 3), (2, 1), 0, 2, -1)\n",
      "1.0 (([0, 1, 5, 7], [0, 2, 3, 4]), (0, 3), (2, 1), 0, 0, -1)\n",
      "1.0 (([0, 3, 4, 5], [0, 1, 2, 4]), (1, 3), (1, 1), 0, 0, -1)\n",
      "1.0 (([0, 2, 4, 5], [0, 1, 2, 4]), (1, 3), (1, 1), 0, 0, -1)\n",
      "1.0 (([0, 3, 5, 7], [0, 1, 2, 4]), (1, 3), (1, 1), 0, -2, -1)\n",
      "1.0 (([0, 5, 6, 7], [0, 1, 2, 4]), (0, 3), (2, 1), 0, 0, -1)\n",
      "1.0 (([0, 4, 5, 6], [0, 1, 2, 4]), (0, 3), (2, 1), 0, 0, -1)\n",
      "1 (([0, 3, 5, 6], [0, 1, 4, 6]), (1, 3), (1, 1), -1, 0, -1)\n",
      "1.0 (([0, 5, 6, 7], [0, 1, 2, 6]), (1, 3), (1, 1), 0, 0, -1)\n",
      "1.0 (([0, 3, 5, 6], [0, 1, 2, 6]), (1, 3), (1, 1), 0, 0, -1)\n",
      "1.0 (([3, 5, 6, 7], [0, 1, 2, 4]), (0, 3), (2, 1), 0, -2, -1)\n",
      "1.0 (([3, 4, 5, 7], [0, 1, 2, 4]), (0, 3), (2, 1), 0, -2, -1)\n",
      "1.0 (([0, 4, 5, 7], [0, 1, 2, 4]), (1, 3), (1, 1), 0, -2, -1)\n",
      "1.0 (([0, 3, 4, 5], [0, 1, 2, 4]), (1, 3), (1, 1), 0, -2, -1)\n",
      "1.0 (([0, 3, 5, 6], [0, 1, 2, 3]), (1, 3), (1, 1), 0, -2, -1)\n",
      "1.0 (([0, 5, 6, 7], [0, 2, 3, 4]), (0, 3), (2, 1), 0, 0, -1)\n",
      "1.0 (([0, 4, 5, 6], [0, 1, 2, 6]), (1, 3), (1, 1), 0, 0, -1)\n",
      "1.0 (([4, 5, 6, 7], [0, 1, 2, 4]), (0, 3), (2, 1), 0, -2, -1)\n",
      "1.0 (([0, 4, 5, 7], [0, 1, 2, 4]), (0, 3), (2, 1), 0, 0, -1)\n",
      "1.0 (([0, 4, 5, 6], [0, 1, 2, 4]), (1, 3), (1, 1), 0, -2, -1)\n",
      "1.0000000000000002 (([2, 5, 6, 7], [0, 1, 2, 4]), (0, 3), (2, 1), 0, -2, -1)\n",
      "0.9999999999999998 (([0, 2, 5, 6], [0, 1, 2, 6]), (1, 3), (1, 1), 0, 0, -1)\n",
      "1.0 (([0, 2, 4, 6], [0, 1, 2, 4]), (0, 3), (2, 1), 0, 0, -1)\n",
      "1.0 (([0, 2, 4, 6], [0, 1, 2, 4]), (1, 3), (1, 1), 0, -2, -1)\n",
      "1.0 (([0, 2, 4, 5], [0, 1, 2, 4]), (1, 3), (1, 1), 0, -2, -1)\n",
      "1.0 (([0, 2, 5, 7], [0, 1, 2, 3]), (1, 3), (1, 1), 0, 2, -1)\n",
      "1.0 (([0, 2, 5, 6], [0, 1, 2, 3]), (1, 3), (1, 1), 0, 0, -1)\n",
      "1.0 (([0, 2, 5, 7], [0, 1, 2, 3]), (1, 3), (1, 1), 0, 0, -1)\n",
      "1.0 (([0, 2, 5, 6], [0, 1, 2, 3]), (1, 3), (1, 1), 0, -2, -1)\n",
      "1.0 (([0, 2, 4, 5], [0, 1, 2, 4]), (1, 3), (1, 1), 0, 2, -1)\n",
      "1.0 (([0, 2, 5, 7], [0, 1, 2, 3]), (0, 3), (2, 1), 0, 2, -1)\n",
      "0.9999999999999999 (([0, 2, 3, 5], [0, 1, 2, 4]), (1, 3), (1, 1), 0, -2, -1)\n",
      "1.0 (([0, 2, 3, 5], [0, 1, 2, 3]), (1, 3), (1, 1), 0, 0, -1)\n",
      "1.0 (([0, 2, 3, 5], [0, 1, 2, 3]), (1, 3), (1, 1), 0, 2, -1)\n",
      "1.0 (([0, 2, 5, 6], [0, 1, 2, 4]), (0, 3), (2, 1), 0, 0, -1)\n",
      "1.0 (([0, 3, 5, 7], [0, 1, 2, 3]), (1, 3), (1, 1), 0, -2, -1)\n",
      "1.0 (([0, 2, 5, 7], [0, 1, 2, 3]), (1, 3), (1, 1), 0, -2, -1)\n",
      "1.0 (([0, 2, 4, 5], [0, 1, 2, 3]), (1, 3), (1, 1), 0, 0, -1)\n",
      "1.0 (([0, 2, 3, 5], [0, 1, 2, 3]), (1, 3), (1, 1), 0, -2, -1)\n",
      "1.0 (([2, 3, 5, 6], [0, 1, 2, 4]), (0, 3), (2, 1), 0, -2, -1)\n",
      "1.0 (([0, 2, 3, 5], [0, 1, 2, 3]), (0, 3), (2, 1), 0, 2, -1)\n",
      "1.0 (([2, 3, 4, 5], [0, 1, 2, 4]), (0, 3), (2, 1), 0, -2, -1)\n",
      "1.0 (([0, 3, 5, 6], [0, 1, 2, 4]), (0, 3), (2, 1), 0, 0, -1)\n",
      "1.0 (([0, 2, 4, 5], [0, 1, 2, 3]), (1, 3), (1, 1), 0, 2, -1)\n",
      "1.0 (([0, 1, 3, 5], [0, 2, 3, 4]), (1, 3), (1, 1), 0, -2, -1)\n",
      "1.0 (([0, 3, 4, 5], [0, 1, 2, 4]), (0, 3), (2, 1), 0, 0, -1)\n",
      "1.0 (([0, 2, 4, 5], [0, 1, 2, 4]), (0, 3), (2, 1), 0, 0, -1)\n",
      "1.0 (([0, 1, 5, 6], [0, 1, 4, 6]), (0, 3), (2, 1), 0, 0, -1)\n",
      "1.0 (([0, 1, 5, 6], [0, 1, 4, 6]), (1, 3), (1, 1), 0, 0, -1)\n",
      "1.0 (([0, 1, 3, 5], [0, 1, 3, 4]), (1, 3), (1, 1), 0, -2, -1)\n",
      "1.0 (([0, 1, 5, 6], [0, 1, 2, 4]), (1, 3), (1, 1), 0, 0, -1)\n",
      "1.0 (([0, 1, 5, 6], [0, 1, 2, 4]), (1, 3), (1, 1), 0, -2, -1)\n",
      "1.0 (([0, 1, 4, 6], [0, 1, 2, 4]), (1, 3), (1, 1), 0, 0, -1)\n",
      "1 (([0, 1, 5, 6], [0, 1, 4, 6]), (1, 3), (1, 1), -1, 0, -1)\n",
      "1.0 (([0, 3, 4, 6], [0, 1, 2, 4]), (1, 3), (1, 1), 0, -2, -1)\n",
      "1.0000000000000002 (([0, 1, 4, 5], [0, 1, 2, 4]), (1, 3), (1, 1), 0, 0, -1)\n",
      "1.0000000000000002 (([0, 1, 5, 6], [0, 1, 2, 6]), (1, 3), (1, 1), 0, 0, -1)\n",
      "1.0 (([0, 1, 4, 6], [0, 1, 2, 4]), (0, 3), (2, 1), 0, 0, -1)\n",
      "1.0 (([0, 1, 4, 6], [0, 1, 2, 4]), (1, 3), (1, 1), 0, -2, -1)\n",
      "1.0 (([0, 1, 4, 5], [0, 1, 2, 4]), (1, 3), (1, 1), 0, -2, -1)\n",
      "1.0000000000000004 (([0, 1, 5, 7], [0, 1, 2, 3]), (1, 3), (1, 1), 0, 2, -1)\n",
      "1.0 (([0, 4, 5, 7], [0, 1, 2, 3]), (1, 3), (1, 1), 0, -2, -1)\n",
      "1.0 (([0, 4, 5, 6], [0, 1, 2, 3]), (1, 3), (1, 1), 0, -2, -1)\n",
      "1.0000000000000004 (([0, 1, 4, 5], [0, 1, 2, 4]), (1, 3), (1, 1), 0, 2, -1)\n",
      "1.0000000000000004 (([0, 1, 5, 7], [0, 1, 2, 3]), (0, 3), (2, 1), 0, 2, -1)\n",
      "1.0 (([0, 1, 3, 5], [0, 1, 2, 4]), (1, 3), (1, 1), 0, -2, -1)\n",
      "1.0 (([0, 1, 3, 5], [0, 1, 2, 3]), (1, 3), (1, 1), 0, 2, -1)\n",
      "1.0 (([0, 1, 5, 6], [0, 1, 2, 4]), (0, 3), (2, 1), 0, 0, -1)\n",
      "1.0 (([0, 3, 4, 5], [0, 1, 2, 3]), (1, 3), (1, 1), 0, -2, -1)\n",
      "1.0 (([0, 1, 3, 5], [0, 1, 2, 3]), (1, 3), (1, 1), 0, -2, -1)\n",
      "1.0 (([1, 3, 5, 6], [0, 1, 2, 4]), (0, 3), (2, 1), 0, -2, -1)\n",
      "1.0 (([0, 1, 3, 5], [0, 1, 2, 3]), (0, 3), (2, 1), 0, 2, -1)\n",
      "1.0 (([1, 3, 4, 5], [0, 1, 2, 4]), (0, 3), (2, 1), 0, -2, -1)\n",
      "1.0 (([0, 1, 4, 5], [0, 1, 2, 3]), (1, 3), (1, 1), 0, 2, -1)\n",
      "1.0000000000000002 (([0, 1, 4, 5], [0, 1, 2, 4]), (0, 3), (2, 1), 0, 0, -1)\n",
      "0.9999999999999998 (([0, 1, 2, 5], [0, 1, 2, 4]), (1, 3), (1, 1), 0, 2, -1)\n",
      "1.0 (([2, 4, 5, 6], [0, 1, 2, 4]), (0, 3), (2, 1), 0, -2, -1)\n",
      "1.0 (([1, 4, 5, 6], [0, 1, 2, 4]), (0, 3), (2, 1), 0, -2, -1)\n",
      "1.0 (([1, 2, 5, 6], [0, 1, 2, 4]), (0, 3), (2, 1), 0, -2, -1)\n",
      "1.0 (([0, 1, 2, 5], [0, 1, 2, 3]), (1, 3), (1, 1), 0, 2, -1)\n",
      "1.0 (([0, 1, 2, 5], [0, 1, 2, 3]), (1, 3), (1, 1), 0, 0, -1)\n",
      "1.0 (([1, 2, 5, 7], [0, 1, 2, 3]), (0, 3), (2, 1), 0, 0, -1)\n",
      "1.0 (([1, 2, 5, 6], [0, 1, 2, 3]), (0, 3), (2, 1), 0, 0, -1)\n",
      "1.0 (([0, 2, 4, 5], [0, 1, 2, 3]), (1, 3), (1, 1), 0, -2, -1)\n",
      "1.0 (([0, 1, 2, 5], [0, 1, 2, 3]), (1, 3), (1, 1), 0, -2, -1)\n",
      "1.0 (([0, 2, 4, 5], [0, 1, 2, 3]), (0, 3), (2, 1), 0, 2, -1)\n",
      "1.0 (([0, 1, 4, 5], [0, 1, 2, 3]), (0, 3), (2, 1), 0, 2, -1)\n",
      "1.0 (([0, 1, 2, 5], [0, 1, 2, 3]), (0, 3), (2, 1), 0, 2, -1)\n",
      "1.0 (([1, 2, 4, 5], [0, 1, 2, 3]), (0, 3), (2, 1), 0, 0, -1)\n"
     ]
    }
   ],
   "source": [
    "EPS = 1e-3\n",
    "k = 0\n",
    "for s in s2val:\n",
    "    ((mask1, mask2), (score1, score2), (wscore1, wscore2), dspy, dgeneral, prevcard) = s\n",
    "    if (score1 + wscore1) == 2 and score2 == 3 and abs(1 - s2val[s]) < EPS and prevcard == -1:\n",
    "        move1 = mask2moves(mask1)\n",
    "        print(s2val[s], ((mask2moves(mask1), mask2moves(mask2)), (score1, score2), (wscore1, wscore2), dspy, dgeneral, prevcard))\n"
   ]
  },
  {
   "cell_type": "markdown",
   "metadata": {
    "id": "zIzKzepxndRs"
   },
   "source": [
    "今度は残り枚数が4枚のパターンしか見つからなかった．残り4枚のパターンは?\n",
    "\n"
   ]
  },
  {
   "cell_type": "code",
   "execution_count": null,
   "metadata": {
    "id": "4UZYtCSdndRs"
   },
   "outputs": [],
   "source": [
    "EPS = 1e-3\n",
    "ans = []\n",
    "for s in s2val:\n",
    "    ((mask1, mask2), (score1, score2), (wscore1, wscore2), dspy, dgeneral, prevcard) = s\n",
    "    if score1 == 0 and score2 == 3 and abs(1 - s2val[s]) < EPS:\n",
    "        move1 = mask2moves(mask1)\n",
    "        if len(move1) ==4 and prevcard == -1:\n",
    "            ans.append(s)\n",
    "print(len(ans), ans[:5])"
   ]
  },
  {
   "cell_type": "code",
   "execution_count": null,
   "metadata": {
    "collapsed": true,
    "id": "dnLAX3AXndRt"
   },
   "outputs": [],
   "source": [
    "次に勝っても自分は1のパターンは? \n",
    "prevcard == -1 ではなし"
   ]
  },
  {
   "cell_type": "code",
   "execution_count": null,
   "metadata": {
    "id": "8geQyKJ7ndRt"
   },
   "outputs": [],
   "source": [
    "EPS = 1e-3\n",
    "ans = []\n",
    "for s in s2val:\n",
    "    ((mask1, mask2), (score1, score2), (wscore1, wscore2), dspy, dgeneral, prevcard) = s\n",
    "    if score1 == 0 and score2 == 3 and abs(1 - s2val[s]) < EPS:\n",
    "        move1 = mask2moves(mask1)\n",
    "        if wscore1 == 1and prevcard == -1:\n",
    "            ans.append(s)\n",
    "print(len(ans), ans[:5])"
   ]
  },
  {
   "cell_type": "code",
   "execution_count": null,
   "metadata": {
    "collapsed": true,
    "id": "4YoPWb3AndRt"
   },
   "outputs": [],
   "source": [
    "prevcard != 7 "
   ]
  },
  {
   "cell_type": "code",
   "execution_count": null,
   "metadata": {
    "id": "byyftMPOndRt"
   },
   "outputs": [],
   "source": [
    "EPS = 1e-3\n",
    "ans = []\n",
    "for s in s2val:\n",
    "    ((mask1, mask2), (score1, score2), (wscore1, wscore2), dspy, dgeneral, prevcard) = s\n",
    "    if score1 == 0 and score2 == 3 and abs(1 - s2val[s]) < EPS:\n",
    "        move1 = mask2moves(mask1)\n",
    "        if wscore1 == 1and prevcard != 7:\n",
    "            ans.append(s)\n",
    "print(len(ans), list(state2moves(x) for x in ans[:5]))"
   ]
  },
  {
   "cell_type": "code",
   "execution_count": null,
   "metadata": {
    "id": "kAa6XeZ6ndRt"
   },
   "outputs": [],
   "source": [
    "print(s2moves[init_state])"
   ]
  },
  {
   "cell_type": "code",
   "execution_count": null,
   "metadata": {
    "id": "ziZiu7XEndRu"
   },
   "outputs": [],
   "source": [
    "for s in s2val:\n",
    "    ((mask1, mask2), (score1, score2), (wscore1, wscore2), dspy, dgeneral, prevcard) = s\n",
    "    if len(mask2moves(mask1)) == 6 and (score2 == 3 or score1 == 3):\n",
    "        print(s2val[s], ((mask2moves(mask1), mask2moves(mask2)), (score1, score2), (wscore1, wscore2), dspy, dgeneral, prevcard))\n",
    "       "
   ]
  },
  {
   "cell_type": "code",
   "execution_count": null,
   "metadata": {
    "id": "rT_bNaA_ndRu"
   },
   "outputs": [],
   "source": [
    "state2 = ((184, 108), (0, 3), (2, 1), 1, 0, 2)\n",
    "((mask1, mask2), (score1, score2), (wscore1, wscore2), dspy, dgeneral, prevcard) = state2\n",
    "print(s2val[state2])\n",
    "print(((mask2moves(mask1), mask2moves(mask2)), (score1, score2), (wscore1, wscore2), dspy, dgeneral, prevcard))\n"
   ]
  },
  {
   "cell_type": "code",
   "execution_count": null,
   "metadata": {
    "id": "RGvKjdykndRu"
   },
   "outputs": [],
   "source": [
    "state2 = ((184, 108), (0, 3), (2, 1), 1, 0, 2)\n",
    "for m in mask2moves(state2[0][0]):\n",
    "    state3 = half_move(state2, m)\n",
    "    print('m', m, 'v', statevalue(state3))"
   ]
  },
  {
   "cell_type": "markdown",
   "metadata": {
    "id": "Z4IuS719ndRu"
   },
   "source": []
  },
  {
   "cell_type": "markdown",
   "metadata": {
    "id": "7il0ysLRndRu"
   },
   "source": [
    "(([3, 4, 5, 7], [2, 3, 5, 6]), (0, 3), (2, 1), 1, 0, 2)\n",
    "自分が前のターンでスパイを出して，相手がスパイを出したところ．自分はこのターンで勝つと2ポイント手に入る．\n",
    "大臣(4)を出すと，次は\n",
    "(([3, 5, 7], [3, 5, 6]), (3, 3), (1, 1), -1, 0, -1)\n",
    "ここで，自分から出さなくてはいけないが，王子(7) を出すと相手が暗殺者(3), 魔術師(5), 将軍(6)のどれを出しても勝つ(暗殺者は王子相手には効果がない)．\n",
    "\n",
    "\n",
    "\n"
   ]
  },
  {
   "cell_type": "code",
   "execution_count": null,
   "metadata": {
    "id": "qzJIso19LpkX"
   },
   "outputs": [],
   "source": [
    "# 残り枚数ごとの勝ち確定\n",
    "win_by_cards = [[] for _ in range(9)]\n",
    "for s in s2val:\n",
    "    i = len(mask2moves(s[0][0]))\n",
    "    if statevalue(s) + 1e-5 > 1:\n",
    "        win_by_cards[i].append(s)\n",
    "print([len(x) for x in win_by_cards])        "
   ]
  },
  {
   "cell_type": "code",
   "execution_count": null,
   "metadata": {
    "collapsed": true,
    "id": "-NFyiN-JndRv"
   },
   "outputs": [],
   "source": []
  },
  {
   "cell_type": "code",
   "execution_count": null,
   "metadata": {
    "id": "wHx9lTEtLpkX"
   },
   "outputs": [],
   "source": [
    "for s in win_by_cards[7]:\n",
    "    print(pp_state(s))"
   ]
  },
  {
   "cell_type": "code",
   "execution_count": null,
   "metadata": {
    "collapsed": true,
    "id": "TtNSbuI2LpkX"
   },
   "outputs": [],
   "source": [
    "(([0, 1, 3, 4, 5, 6, 7], [1, 2, 3, 4, 5, 6, 7]), (0, 0), (2, 2), 1, 0, 7)\n",
    "(([0, 1, 3, 4, 5, 6, 7], [0, 2, 3, 4, 5, 6, 7]), (1, 0), (1, 1), 1, 0, 7)\n",
    "(([0, 1, 3, 4, 5, 6, 7], [0, 1, 2, 4, 5, 6, 7]), (1, 0), (1, 1), 1, 0, 7)\n",
    "(([0, 1, 3, 4, 5, 6, 7], [0, 1, 2, 3, 5, 6, 7]), (0, 2), (1, 1), 1, 0, 7)\n",
    "(([0, 1, 3, 4, 5, 6, 7], [0, 1, 2, 3, 4, 5, 7]), (0, 1), (1, 1), 1, -2, 7)\n",
    "「こちらが，密偵(2)を出した次のターンで相手が王子を出したパターン」"
   ]
  },
  {
   "cell_type": "code",
   "execution_count": null,
   "metadata": {
    "id": "OhUwclWuLpkX"
   },
   "outputs": [],
   "source": [
    "# 残り枚数ごとの勝ち確定\n",
    "win_sim_by_cards = [[] for _ in range(9)]\n",
    "for s in s2val:\n",
    "    if s[3] != 0:\n",
    "        continue\n",
    "    i = len(mask2moves(s[0][0]))\n",
    "    if statevalue(s) + 1e-5 > 1:\n",
    "        win_sim_by_cards[i].append(s)\n",
    "print([len(x) for x in win_sim_by_cards])        "
   ]
  },
  {
   "cell_type": "code",
   "execution_count": null,
   "metadata": {
    "id": "y4h1AprBLpkX"
   },
   "outputs": [],
   "source": [
    "for s in win_sim_by_cards[6]:\n",
    "    print(pp_state(s))\n",
    "    print(s2moves[s])"
   ]
  },
  {
   "cell_type": "markdown",
   "metadata": {
    "id": "PzzV4u_8LpkY"
   },
   "source": [
    "```\n",
    "(([0, 1, 2, 3, 5, 7], [2, 3, 4, 5, 6, 7]), (3, 0), (1, 1), 0, 2, -1)\n",
    "```\n",
    "大臣(4), 将軍(6) に対して相手が道化(0), 姫(1) を出し，(3, 0)とリード\n",
    "3　次の手は魔術師(+2としているので強さは7) 相手が2,3,4,5,6 ならば強さで勝てる(暗殺者は無効)．相手が7の時には引き分けとなり，次の状態は (([0, 1, 2, 3, 7], [2, 3, 4, 5, 6]), (3, 0), (1, 2), 0, 0, -1)\n",
    "4. ここで道化を出す．相手が将軍(6)を出した時は，ターン5で暗殺者を出して勝ち．それ以外では，王子を出して勝ち．\n",
    "```\n",
    "(([0, 1, 2, 3, 5, 7], [2, 3, 4, 5, 6, 7]), (2, 0), (2, 2), 0, 2, -1)\n",
    "```\n",
    "大臣(4), 将軍(6) に対して相手が姫(1), 道化(0)と出し，(2, 0)とリード\n",
    "\n",
    "\n",
    "```\n",
    "(([0, 1, 2, 3, 5, 7], [0, 1, 3, 4, 6, 7]), (3, 0), (1, 1), 0, 0, -1)\n",
    "```\n",
    "1. 大臣(4) - 密偵(2)\n",
    "2. 将軍(6) -> 魔術師(5)\n",
    "\n",
    "\n",
    "```\n",
    "(([0, 1, 2, 3, 5, 6], [0, 1, 3, 4, 6, 7]), (3, 0), (1, 1), 0, 0, -1)\n",
    "```\n",
    "\n",
    "1. 大臣(4) - 密偵(2)\n",
    "2. 王子(7) -> 魔術師(5)\n"
   ]
  },
  {
   "cell_type": "code",
   "execution_count": null,
   "metadata": {
    "id": "8WDaWvD8LpkY"
   },
   "outputs": [],
   "source": [
    "state = ((moves2mask([0, 1, 2, 3, 5, 7]), moves2mask([2, 3, 4, 5, 6, 7])), (3, 0), (1, 1), 0, 2, -1)\n",
    "for m2 in mask2moves(state[0][1]):\n",
    "    ns = next_state(state, 5, m2)\n",
    "    print('m2', m2, 'ns', ns)\n",
    "state1 = ((143, 124), (3, 0), (1, 2), 0, 0, -1)\n",
    "print(s2val[state1])\n",
    "print(s2moves[state1])\n",
    "for m2 in mask2moves(state1[0][1]):\n",
    "    ns = next_state(state1, 0, m2)\n",
    "    print('m2', m2, 'ns', pp_state(ns))\n",
    "    if not is_final(ns):\n",
    "        print('ns', pp_state(ns), 's2val[ns]', s2val[ns], 's2moves[ns]', s2moves[ns])\n"
   ]
  },
  {
   "cell_type": "code",
   "execution_count": null,
   "metadata": {
    "id": "axpyqQpULpkY"
   },
   "outputs": [],
   "source": [
    "state2 = ((moves2mask([1, 2, 3, 7]), moves2mask([2, 3, 5, 6])), (3, 0), (1, 4), 0, 0, -1)\n",
    "for m2 in mask2moves(state2[0][1]):\n",
    "    ns = next_state(state2, 7, m2)\n",
    "    print('m2', m2, 'ns', pp_state(ns))"
   ]
  },
  {
   "cell_type": "markdown",
   "metadata": {
    "id": "yEwfv3N_LpkY"
   },
   "source": [
    "## 次の一手問題が作れるか?\n",
    "- sval[state] が1であり\n",
    "- 複数の着手があり\n",
    "- その中で確実に勝てる手が1手のみ\n"
   ]
  },
  {
   "cell_type": "code",
   "execution_count": null,
   "metadata": {
    "collapsed": true,
    "id": "Fl7xwGXW9_T3"
   },
   "outputs": [],
   "source": [
    "def unique_bestmove(s):\n",
    "    if s2val[s] + 1e-5 < 1:\n",
    "        return False\n",
    "    ((mask1, mask2), (score1, score2), (wscore1, wscore2), dspy, dgeneral, prevcard) = s\n",
    "    moves1 = mask2moves(mask1)\n",
    "    if len(moves1) <= 1:\n",
    "        return False\n",
    "    vals = []\n",
    "    for move1 in moves1:\n",
    "        if prevcard >= 0:\n",
    "            assert dspy == 1\n",
    "            ns = half_move(s, move1)\n",
    "            vals.append(statevalue(ns))\n",
    "        elif dspy != 0:\n",
    "            assert dspy == -1\n",
    "            ns = half_move(s, move1)\n",
    "            vals.append(statevalue(ns))\n",
    "        else:\n",
    "            nstate = neg_state(s)\n",
    "            ans = 0\n",
    "            for move2, p in s2moves[nstate]:\n",
    "                ns = next_state(s, move1, move2)\n",
    "                ans += p * statevalue(ns)\n",
    "            vals.append(ans)\n",
    "    assert abs(max(vals) - s2val[s]) < 1e-5\n",
    "    return sum(abs(x - s2val[s]) < 1e-5 for x in vals) == 1\n",
    "        "
   ]
  },
  {
   "cell_type": "code",
   "execution_count": null,
   "metadata": {
    "id": "jhsm6LAp-B8P"
   },
   "outputs": [],
   "source": [
    "ans = 0\n",
    "for s in s2val:\n",
    "    if unique_bestmove(s):\n",
    "        ans += 1\n",
    "        if ans % 1000 == 0:\n",
    "            print(s)\n",
    "print(ans)            "
   ]
  },
  {
   "cell_type": "markdown",
   "metadata": {
    "id": "0s4SValULpkZ"
   },
   "source": [
    "state = ((36, 72), (3, 3), (1, 1), 0, 0, -1)\n",
    "s2val[state]\n",
    "が存在しない原因を調べる．\n",
    "state = ((72, 36), (3, 3), (1, 1), 0, 0, -1)\n",
    "は存在する．\n",
    "\n",
    "s2valのキーの中にどのくらい問題があるか?\n",
    "\n"
   ]
  },
  {
   "cell_type": "code",
   "execution_count": null,
   "metadata": {
    "id": "Cw9kINY5LpkZ"
   },
   "outputs": [],
   "source": [
    "ans = 0\n",
    "level2ans = [0] * 9\n",
    "for s in s2val:\n",
    "    ((mask1, mask2), (score1, score2), (wscore1, wscore2), dspy, dgeneral, prevcard) = s\n",
    "    assert len(mask2moves(mask1)) == len(mask2moves(mask2))\n",
    "    if dspy == 0:\n",
    "        negs = neg_state(s)\n",
    "        if negs not in s2val:\n",
    "            level2ans[len(mask2moves(mask1))] += 1\n",
    "            ans += 1\n",
    "            if len(mask2moves(mask1)) == 6:\n",
    "                print('s', s, 'negs', negs)\n",
    "print(ans)                \n",
    "print(level2ans)"
   ]
  },
  {
   "cell_type": "markdown",
   "metadata": {
    "collapsed": true,
    "executionInfo": {
     "elapsed": 1735,
     "status": "ok",
     "timestamp": 1627024610917,
     "user": {
      "displayName": "Tetsuro Tanaka",
      "photoUrl": "",
      "userId": "10975618971026381564"
     },
     "user_tz": -540
    },
    "id": "zGlKR5EDfJlx"
   },
   "source": [
    "s ((250, 252), (0, 0), (3, 3), 0, 0, -1) negs ((252, 250), (0, 0), (3, 3), 0, 0, -1)\n",
    "がどのようにして生じたか?\n",
    "player1 0, 2\n",
    "player2 0, 1\n",
    "のようなパターン"
   ]
  },
  {
   "cell_type": "code",
   "execution_count": null,
   "metadata": {
    "id": "M2-deT0EmUGI"
   },
   "outputs": [],
   "source": [
    "s2 = next_state(init_state, 0, 2)\n",
    "s3 = next_state(s2, 1, 0)\n",
    "print(s3)\n",
    "s2 = next_state(init_state, 2, 0)\n",
    "s3 = next_state(s2, 0, 1)\n",
    "print(s3)"
   ]
  },
  {
   "cell_type": "code",
   "execution_count": null,
   "metadata": {
    "id": "k1lGPR56ygav",
    "scrolled": true
   },
   "outputs": [],
   "source": [
    "val_against_nash(init_state)"
   ]
  },
  {
   "cell_type": "code",
   "execution_count": null,
   "metadata": {
    "collapsed": true,
    "id": "kuL9bZyayl82"
   },
   "outputs": [],
   "source": [
    "# player1がnash戦略 player2がrandom戦略を採用した時のplayer1 の勝率\n",
    "def simultaneous_random(state):\n",
    "    ((mask1, mask2), (score1, score2), (wscore1, wscore2), dspy, dgeneral, prevcard) = state\n",
    "    moves2 = mask2moves(mask2)\n",
    "    ans = 0\n",
    "    for move1, p1 in s2moves[state]:\n",
    "        for move2 in moves2:\n",
    "            p2 = 1 / len(moves2)\n",
    "            ns = next_state(state, move1, move2)\n",
    "            v = statevalue_random(ns)\n",
    "            #print('move1', move1, 'p1', p1, 'move2', move2, 'p2', p2, 'ns', ns, 'v', v)\n",
    "            ans += p1 * p2 * v\n",
    "    return ans\n",
    "\n",
    "\n",
    "s2val_random = {}\n",
    "def statevalue_random(state):\n",
    "    if is_final(state):\n",
    "        return final_score(state)\n",
    "    if state in s2val_random:\n",
    "        return s2val_random[state]\n",
    "    ((mask1, mask2), (score1, score2), (wscore1, wscore2), dspy, dgeneral, prevcard) = state\n",
    "    if dspy == 0:\n",
    "        v = simultaneous_random(state)\n",
    "    elif dspy == -1:\n",
    "        assert prevcard < 0\n",
    "        v = 0\n",
    "        for move1, p1 in s2moves[state]:\n",
    "            moves2 = mask2moves(mask2)\n",
    "            for move2 in moves2:\n",
    "                ns = next_state(state, move1, move2)\n",
    "                v1 = statevalue_random(ns)\n",
    "                v += p1 * v1 / len(moves2)\n",
    "    else:\n",
    "        assert dspy == 1\n",
    "        assert prevcard < 0\n",
    "        v = 0\n",
    "        moves2 = mask2moves(mask2)\n",
    "        for move2 in moves2:\n",
    "            ns = ((mask1, mask2), (score1, score2), (wscore1, wscore2), dspy, dgeneral, move2)\n",
    "            v1 = s2val[ns]\n",
    "            v += v1 / len(moves2)\n",
    "    s2val_random[state] = v\n",
    "    if s2val_random[state] + 1e-10 < statevalue(state):\n",
    "        raise Exception(\"state\", state)\n",
    "    return v"
   ]
  },
  {
   "cell_type": "code",
   "execution_count": null,
   "metadata": {
    "id": "Xn-lLf-JLpkb"
   },
   "outputs": [],
   "source": [
    "statevalue_random(init_state)"
   ]
  },
  {
   "cell_type": "code",
   "execution_count": null,
   "metadata": {
    "id": "gAS_bJqLLpkb"
   },
   "outputs": [],
   "source": [
    "state = ((80, 192), (3, 3), (1, 1), -1, 0, -1)\n",
    "print('moves1', mask2moves(state[0][0]), 'moves2', mask2moves(state[0][1]))\n",
    "print('s2moves[state]', s2moves[state])\n",
    "print('s2val[state]', s2val[state], 's2val_random[state]', s2val_random[state])\n",
    "v = 0\n",
    "mask2 = state[0][1]\n",
    "for move1, p1 in s2moves[state]:\n",
    "    for move2 in mask2moves(mask2):\n",
    "        ns = next_state(state, move1, move2)\n",
    "        v1 = statevalue_random(ns)\n",
    "        v += p1 * v1 / len(moves2)\n",
    "        print('v1', v1, 'p1', p1, 'v', v)\n",
    "for move1 in mask2moves(state[0][0]):\n",
    "    for move2 in mask2moves(state[0][1]):\n",
    "        ns = next_state(state, move1, move2)\n",
    "        v = statevalue_random(ns)     \n",
    "        print('move1', move1, 'move2', move2, 'v', v, 'ns', ns)\n"
   ]
  },
  {
   "cell_type": "markdown",
   "metadata": {
    "id": "iLWmYczeLpkb"
   },
   "source": [
    "state = ((248, 244), (3, 0), (1, 1), 1, 0, -1)"
   ]
  },
  {
   "cell_type": "code",
   "execution_count": null,
   "metadata": {
    "id": "lGkQx-O7Lpkb"
   },
   "outputs": [],
   "source": [
    "s2moves[init_state]"
   ]
  },
  {
   "cell_type": "code",
   "execution_count": null,
   "metadata": {
    "id": "EtVf3OPMLpkb"
   },
   "outputs": [],
   "source": [
    "mask2moves(208)"
   ]
  },
  {
   "cell_type": "markdown",
   "metadata": {
    "id": "Sp8SuYPrLpkb"
   },
   "source": [
    "state1 = ((244, 248), (0, 3), (1, 1), -1, 0, -1)"
   ]
  },
  {
   "cell_type": "code",
   "execution_count": null,
   "metadata": {
    "id": "OyhrEls7Lpkc"
   },
   "outputs": [],
   "source": [
    "next_state(state, 7, 7)"
   ]
  },
  {
   "cell_type": "code",
   "execution_count": null,
   "metadata": {
    "id": "OPBwg2xvRucR"
   },
   "outputs": [],
   "source": [
    "len(s2moves)"
   ]
  },
  {
   "cell_type": "code",
   "execution_count": null,
   "metadata": {
    "id": "dmKHpLW4Lpkc"
   },
   "outputs": [],
   "source": [
    "len(s2val)"
   ]
  },
  {
   "cell_type": "code",
   "execution_count": null,
   "metadata": {
    "id": "gX6ZPyhlLpkc"
   },
   "outputs": [],
   "source": [
    "sum(len(all_states[i]) for i in range(9))"
   ]
  },
  {
   "cell_type": "code",
   "execution_count": null,
   "metadata": {
    "id": "u2J01gzALpkc"
   },
   "outputs": [],
   "source": [
    "sum(len(magic_states[i]) for i in range(8))"
   ]
  },
  {
   "cell_type": "code",
   "execution_count": null,
   "metadata": {
    "collapsed": true,
    "id": "HF3H99B0Lpkc"
   },
   "outputs": [],
   "source": [
    "for ai in all_states:\n",
    "    for s in ai:\n",
    "        if s not in s2val:\n",
    "            print('s', s)\n",
    "        if s[3] == 0:\n",
    "            ns = neg_state(s)\n",
    "            if ns not in s2val:\n",
    "                print('ns', ns)"
   ]
  },
  {
   "cell_type": "code",
   "execution_count": null,
   "metadata": {
    "collapsed": true,
    "id": "JCMiHPRTLpkd"
   },
   "outputs": [],
   "source": [
    "for mi in magic_states[i]:\n",
    "    for s in mi:\n",
    "        if s not in s2val:\n",
    "            print('s', s)"
   ]
  },
  {
   "cell_type": "code",
   "execution_count": null,
   "metadata": {
    "collapsed": true,
    "id": "c9RRLCMSLpkd"
   },
   "outputs": [],
   "source": [
    "for s in s2val:\n",
    "    ns = neg_state(s)\n",
    "    if not (any((s in ai or ns in ai) for ai in all_states) or\n",
    "            any((s in mi or ns in mi) for mi in magic_states)):\n",
    "        print('s', s)"
   ]
  },
  {
   "cell_type": "code",
   "execution_count": null,
   "metadata": {
    "id": "xsFhwtEOVgdG"
   },
   "outputs": [],
   "source": [
    "state = ((96, 24), (3, 3), (3, 2), -1, 0, -1)\n",
    "print(s2val[state])\n",
    "print(s2val_random[state])"
   ]
  },
  {
   "cell_type": "code",
   "execution_count": null,
   "metadata": {
    "id": "SwJS2gnWVf8h"
   },
   "outputs": [],
   "source": [
    "mask2moves(96)"
   ]
  },
  {
   "cell_type": "code",
   "execution_count": null,
   "metadata": {
    "id": "LAwTg2ifWzPz"
   },
   "outputs": [],
   "source": [
    "mask2moves(24)\n"
   ]
  },
  {
   "cell_type": "code",
   "execution_count": null,
   "metadata": {
    "id": "RLB-auU-Rxe2"
   },
   "outputs": [],
   "source": [
    "next_state(state, 5, 3)"
   ]
  },
  {
   "cell_type": "code",
   "execution_count": null,
   "metadata": {
    "id": "cg-8gdXtR1id"
   },
   "outputs": [],
   "source": [
    "next_state(state, 5, 4)"
   ]
  },
  {
   "cell_type": "code",
   "execution_count": null,
   "metadata": {
    "collapsed": true,
    "id": "uulzdv_KTivW"
   },
   "outputs": [],
   "source": [
    "def random_player(state):\n",
    "    ((mask1, mask2), (score1, score2), (wscore1, wscore2), dspy, dgeneral, prevcard) = state\n",
    "    moves = mask2moves(mask1)\n",
    "    return moves[random.randrange(0, len(moves))]\n",
    "    "
   ]
  },
  {
   "cell_type": "markdown",
   "metadata": {
    "id": "x8npn24sndR2"
   },
   "source": [
    "## da版との違い\n",
    "どちらかのみに存在している局面\n",
    "```\n",
    "len(only_s) 61\n",
    "len(only_da) 14\n",
    "```"
   ]
  },
  {
   "cell_type": "code",
   "execution_count": null,
   "metadata": {
    "id": "K-vDj7m9ndR2"
   },
   "outputs": [],
   "source": [
    "only_s = []\n",
    "only_da = []\n",
    "for s in s2val:\n",
    "    if s not in s2val_da:\n",
    "        only_s.append(s)\n",
    "for s in s2val_da:\n",
    "    if s not in s2val:\n",
    "        only_da.append(s)\n",
    "print('len(only_s)', len(only_s))        \n",
    "print('len(only_da)', len(only_da))"
   ]
  },
  {
   "cell_type": "code",
   "execution_count": null,
   "metadata": {
    "id": "Qc68QcfzndR2"
   },
   "outputs": [],
   "source": [
    "for s in only_da:\n",
    "    print(state2moves(s))"
   ]
  },
  {
   "cell_type": "code",
   "execution_count": null,
   "metadata": {
    "id": "ZIMYteQ5ndR2"
   },
   "outputs": [],
   "source": [
    "for s in only_s:\n",
    "    print(state2moves(s))"
   ]
  },
  {
   "cell_type": "code",
   "execution_count": null,
   "metadata": {
    "id": "1bm8Grm5ndR3"
   },
   "outputs": [],
   "source": [
    "# len(s2val)\n",
    "EPS = 1e-5\n",
    "sts = []\n",
    "for s in s2val:\n",
    "    if s[3] != 0:\n",
    "        continue\n",
    "    if s in s2val_da:\n",
    "        sts.append((s, s2val[s], s2val_da[s]))\n",
    "    #if abs(s2val[s] - s2val_da[s]) > EPS:\n",
    "    #    print(s, s2val[s], s2val_da[s])\n",
    "sts.sort(key=lambda x: -abs(x[1] - x[2]))\n",
    "print(sts[:10])"
   ]
  },
  {
   "cell_type": "code",
   "execution_count": null,
   "metadata": {
    "id": "XuXXBXVWndR3"
   },
   "outputs": [],
   "source": [
    "state2moves(((76, 13), (2, 3), (1, 1), 0, -2, -1))"
   ]
  },
  {
   "cell_type": "code",
   "execution_count": null,
   "metadata": {
    "id": "Xt4KNGFNndR3"
   },
   "outputs": [],
   "source": [
    "s2moves_da[((76, 13), (2, 3), (1, 1), 0, -2, -1)]"
   ]
  },
  {
   "cell_type": "code",
   "execution_count": null,
   "metadata": {
    "id": "SWQ2lf4fndR3"
   },
   "outputs": [],
   "source": [
    "print(sts[:100])"
   ]
  },
  {
   "cell_type": "code",
   "execution_count": null,
   "metadata": {
    "id": "r4E77-wdndR3"
   },
   "outputs": [],
   "source": [
    "s2val[((36, 160), (3, 3), (1, 1), 0, 0, -1)]"
   ]
  },
  {
   "cell_type": "code",
   "execution_count": null,
   "metadata": {
    "id": "XI2OrCbZndR4"
   },
   "outputs": [],
   "source": [
    "for i in range(len(all_states)):\n",
    "    print(i, ((36, 160), (3, 3), (1, 1), 0, 0, -1) in all_states[i])"
   ]
  },
  {
   "cell_type": "code",
   "execution_count": null,
   "metadata": {
    "id": "3ETqBsREndR4"
   },
   "outputs": [],
   "source": [
    "for i in range(len(all_states)):\n",
    "    print('i', i)\n",
    "    for s in all_states[i]:\n",
    "        missing = []\n",
    "        if s not in s2val:\n",
    "            missing.append(s)\n",
    "    print(missing[:10])\n",
    "      "
   ]
  },
  {
   "cell_type": "code",
   "execution_count": null,
   "metadata": {
    "id": "rB6R6HvyndR4"
   },
   "outputs": [],
   "source": [
    "len(s2val)"
   ]
  },
  {
   "cell_type": "code",
   "execution_count": null,
   "metadata": {
    "id": "V_OfuXcSndR4"
   },
   "outputs": [],
   "source": []
  },
  {
   "cell_type": "code",
   "execution_count": null,
   "metadata": {
    "id": "vsouVbLcndR5"
   },
   "outputs": [],
   "source": [
    "((128, 128), (0, 0), (4, 4), 0, 0, -1) in all_states[7]"
   ]
  },
  {
   "cell_type": "code",
   "execution_count": null,
   "metadata": {
    "id": "6QjuFlvrndR5"
   },
   "outputs": [],
   "source": [
    "state2moves(((164, 112), (3, 2), (1, 1), 0, 0, -1))"
   ]
  },
  {
   "cell_type": "code",
   "execution_count": null,
   "metadata": {
    "id": "0cAb0zUondR5"
   },
   "outputs": [],
   "source": [
    "for i in range(len(all_states)):\n",
    "    print('i', i)\n",
    "    for s in all_states[i]:\n",
    "        missing = []\n",
    "        if s not in s2val_da:\n",
    "            missing.append(s)\n",
    "    print(missing[:10])\n",
    "      "
   ]
  },
  {
   "cell_type": "code",
   "execution_count": null,
   "metadata": {
    "id": "kLEjWDljndR5"
   },
   "outputs": [],
   "source": [
    "refstate = ((164, 112), (3, 2), (1, 1), 0, 0, -1)\n",
    "double_assassin = False\n",
    "for s in all_states[4]:\n",
    "    ((mask1, mask2), (score1, score2), (wscore1, wscore2), dspy, dgeneral, prevcard) = s\n",
    "    moves1, moves2 = mask2moves(mask1), mask2moves(mask2)\n",
    "    if dspy == -1:\n",
    "        for move1 in moves1:\n",
    "            ns = half_move(s, move1)\n",
    "            for move2 in moves2:\n",
    "                ns1 = half_move(ns, move2)\n",
    "                if is_final(ns1):\n",
    "                    continue\n",
    "                if ns1 == refstate:\n",
    "                    print('1', s)\n",
    "                if neg_state(ns1) == refstate:\n",
    "                    print('2', s)\n",
    "        continue\n",
    "    if dspy == 1:\n",
    "        continue\n",
    "    for move1 in moves1:\n",
    "        for move2 in moves2:\n",
    "            ns = next_state(s, move1, move2, double_assassin)\n",
    "            if is_final(ns):\n",
    "                continue\n",
    "            if ns == refstate:\n",
    "                print('3', s)\n",
    "            if neg_state(ns) == refstate:\n",
    "                print('4', s)\n"
   ]
  },
  {
   "cell_type": "code",
   "execution_count": null,
   "metadata": {
    "id": "u3NUoH7xndR5"
   },
   "outputs": [],
   "source": [
    "s2val[((180, 120), (3, 1), (1, 1), -1, 2, -1)]"
   ]
  },
  {
   "cell_type": "code",
   "execution_count": null,
   "metadata": {
    "collapsed": true,
    "id": "2wAe0yqUndR6"
   },
   "outputs": [],
   "source": [
    "del s2val[((180, 120), (3, 1), (1, 1), -1, 2, -1)]"
   ]
  },
  {
   "cell_type": "code",
   "execution_count": null,
   "metadata": {
    "id": "Oo5xdDD6ndR6"
   },
   "outputs": [],
   "source": [
    "statevalue(((180, 120), (3, 1), (1, 1), -1, 2, -1),s2val,s2moves)"
   ]
  },
  {
   "cell_type": "code",
   "execution_count": null,
   "metadata": {
    "id": "d3uXKbnTndR6"
   },
   "outputs": [],
   "source": [
    "state2moves(((180, 120), (3, 1), (1, 1), -1, 2, -1))"
   ]
  },
  {
   "cell_type": "code",
   "execution_count": null,
   "metadata": {
    "id": "DplIuOJDndR6"
   },
   "outputs": [],
   "source": [
    "state2moves(refstate)"
   ]
  },
  {
   "cell_type": "code",
   "execution_count": null,
   "metadata": {
    "id": "vGxslW-YndR6"
   },
   "outputs": [],
   "source": [
    "simultaneous(((180, 120), (3, 1), (1, 1), -1, 2, -1),s2val,s2moves)"
   ]
  },
  {
   "cell_type": "code",
   "execution_count": null,
   "metadata": {
    "id": "OHTV-hfGndR7"
   },
   "outputs": [],
   "source": [
    "refstate"
   ]
  },
  {
   "cell_type": "code",
   "execution_count": null,
   "metadata": {
    "collapsed": true,
    "id": "hurm4X0IndR7"
   },
   "outputs": [],
   "source": [
    "del s2val[((114, 172), (0, 3), (2, 1), 0, 0, -1)]"
   ]
  },
  {
   "cell_type": "code",
   "execution_count": null,
   "metadata": {
    "id": "e69Iwa0CndR7"
   },
   "outputs": [],
   "source": [
    "statevalue(((114, 172), (0, 3), (2, 1), 0, 0, -1), s2val, s2moves)"
   ]
  },
  {
   "cell_type": "code",
   "execution_count": null,
   "metadata": {
    "id": "Xr7o2ATWndR7"
   },
   "outputs": [],
   "source": [
    "state2moves(((114, 172), (0, 3), (2, 1), 0, 0, -1))"
   ]
  },
  {
   "cell_type": "code",
   "execution_count": null,
   "metadata": {
    "id": "1Wyb2jTnndR7"
   },
   "outputs": [],
   "source": [
    "state2moves(refstate)"
   ]
  },
  {
   "cell_type": "markdown",
   "metadata": {
    "collapsed": true,
    "id": "JEs52dVZndR8"
   },
   "source": [
    "## 参考文献\n",
    "\n",
    "```\n",
    "@techreport{weko_211498_1,\n",
    "   author\t = \"中松,稜 and 高橋,和子\",\n",
    "   title\t = \"カードゲーム「アールライバルズ」における戦略\",\n",
    "   year \t= \"2021\",\n",
    "   institution\t = \"関西学院大学, 関西学院大学\",\n",
    "   number\t = \"8\",\n",
    "   month\t = \"jun\"\n",
    "}\n",
    "```\n",
    "http://id.nii.ac.jp/1001/00211392/\n"
   ]
  },
  {
   "cell_type": "code",
   "execution_count": null,
   "metadata": {},
   "outputs": [],
   "source": []
  }
 ],
 "metadata": {
  "colab": {
   "collapsed_sections": [],
   "name": "r-rivals.ipynb",
   "provenance": []
  },
  "kernelspec": {
   "display_name": "Python 3",
   "language": "python",
   "name": "python3"
  },
  "language_info": {
   "codemirror_mode": {
    "name": "ipython",
    "version": 3
   },
   "file_extension": ".py",
   "mimetype": "text/x-python",
   "name": "python",
   "nbconvert_exporter": "python",
   "pygments_lexer": "ipython3",
   "version": "3.8.8"
  }
 },
 "nbformat": 4,
 "nbformat_minor": 1
}
